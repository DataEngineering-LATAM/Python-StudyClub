{
  "cells": [
    {
      "cell_type": "markdown",
      "id": "9494bed2",
      "metadata": {
        "id": "9494bed2"
      },
      "source": [
        "# Paradigma de la programación Orientada a Objetos"
      ]
    },
    {
      "cell_type": "code",
      "source": [
        "from google.colab import drive\n",
        "drive.mount('/content/drive')"
      ],
      "metadata": {
        "colab": {
          "base_uri": "https://localhost:8080/"
        },
        "id": "yD3GY21meBXl",
        "outputId": "68bd0913-0549-4430-aade-5830677fd44b"
      },
      "id": "yD3GY21meBXl",
      "execution_count": null,
      "outputs": [
        {
          "output_type": "stream",
          "name": "stdout",
          "text": [
            "Mounted at /content/drive\n"
          ]
        }
      ]
    },
    {
      "cell_type": "markdown",
      "id": "a2f8f75b",
      "metadata": {
        "id": "a2f8f75b"
      },
      "source": [
        "[Presentacion POO](https://upoliedu-my.sharepoint.com/:p:/g/personal/1513317_estudiante_unp_edu_ni/EfUmTxmQZIFCra869GlCm7kBnmJmdfQxrHbcnDLgZVL1jg?e=7KYUY1 \"PPT\")\n",
        "            "
      ]
    },
    {
      "cell_type": "markdown",
      "id": "b847eaf5",
      "metadata": {
        "id": "b847eaf5"
      },
      "source": [
        "[Python para todos](https://upoliedu-my.sharepoint.com/:b:/g/personal/1513317_estudiante_unp_edu_ni/ETWdWepfGY9BnIJ83I3CCNkBYVb5f31qlHpBPEt99UIdVQ?e=ho0OVv \"PDF\")\n",
        "            "
      ]
    },
    {
      "cell_type": "markdown",
      "id": "89657c9a",
      "metadata": {
        "id": "89657c9a"
      },
      "source": [
        "[Python para principiantes](https://upoliedu-my.sharepoint.com/:b:/g/personal/1513317_estudiante_unp_edu_ni/EaqZWBRah45BjSt7XBCtMugBcpZz4IMg8vu161m7zwgf2Q?e=sZ71Sw \"PDF\")"
      ]
    },
    {
      "cell_type": "markdown",
      "id": "31ef7bc6",
      "metadata": {
        "id": "31ef7bc6"
      },
      "source": [
        "[Python con aplicaciones a las matematicas e ingenieria](https://upoliedu-my.sharepoint.com/:b:/g/personal/1513317_estudiante_unp_edu_ni/ES1DMoKyPWFHgQCI3iszlTwBNc7XACbI2ZKN-6y0lXKR8Q?e=rEj7rr \"PDF\")  "
      ]
    },
    {
      "cell_type": "markdown",
      "id": "9b52f84c",
      "metadata": {
        "id": "9b52f84c"
      },
      "source": [
        "[POO El libro de python](https://ellibrodepython.com/programacion-orientada-a-objetos-python \"Web\")"
      ]
    },
    {
      "cell_type": "markdown",
      "id": "d91fd88f",
      "metadata": {
        "id": "d91fd88f"
      },
      "source": [
        "**Todos los objetos en python heredan de la clase generica object**"
      ]
    },
    {
      "cell_type": "markdown",
      "id": "6a7cb7d0",
      "metadata": {
        "id": "6a7cb7d0"
      },
      "source": [
        "En Python, una clase se define con la instrucción class seguida de un nombre genérico\n",
        "para el objeto."
      ]
    },
    {
      "cell_type": "code",
      "execution_count": null,
      "id": "255b911a",
      "metadata": {
        "id": "255b911a"
      },
      "outputs": [],
      "source": [
        "class Square: \n",
        " pass"
      ]
    },
    {
      "cell_type": "code",
      "execution_count": null,
      "id": "20e4b71f",
      "metadata": {
        "id": "20e4b71f"
      },
      "outputs": [],
      "source": [
        "cuadrado = Square()"
      ]
    },
    {
      "cell_type": "code",
      "source": [
        "print(type(cuadrado))"
      ],
      "metadata": {
        "colab": {
          "base_uri": "https://localhost:8080/"
        },
        "id": "mZwnX0sr8A8u",
        "outputId": "63ba5881-dcb4-4c93-f006-273a77a44109"
      },
      "id": "mZwnX0sr8A8u",
      "execution_count": null,
      "outputs": [
        {
          "output_type": "stream",
          "name": "stdout",
          "text": [
            "<class '__main__.Square'>\n"
          ]
        }
      ]
    },
    {
      "cell_type": "code",
      "source": [
        "print(isinstance(cuadrado, Square))"
      ],
      "metadata": {
        "colab": {
          "base_uri": "https://localhost:8080/"
        },
        "id": "J8vr8sB28CUl",
        "outputId": "dc87734f-e201-43bd-ecdc-0b694c17ac80"
      },
      "id": "J8vr8sB28CUl",
      "execution_count": null,
      "outputs": [
        {
          "output_type": "stream",
          "name": "stdout",
          "text": [
            "True\n"
          ]
        }
      ]
    },
    {
      "cell_type": "markdown",
      "source": [
        "PEP 8: clases\n",
        "El nombre de las clases se define en singular, utilizando\n",
        "UpperCamelCase."
      ],
      "metadata": {
        "id": "1z45tBof8r2e"
      },
      "id": "1z45tBof8r2e"
    },
    {
      "cell_type": "markdown",
      "source": [
        "**Metodos**"
      ],
      "metadata": {
        "id": "MWBdwPUGLN5e"
      },
      "id": "MWBdwPUGLN5e"
    },
    {
      "cell_type": "markdown",
      "source": [
        "Funcion:\n",
        "     Una funcion es un bloque de codigo independiente a nuestro programa que realiza una tarea en especifico para contribuir a la resolución del problema."
      ],
      "metadata": {
        "id": "hOUb-LYMLTaW"
      },
      "id": "hOUb-LYMLTaW"
    },
    {
      "cell_type": "markdown",
      "source": [
        "Los metodos son funciones dentro de nuestras clases, eston indican el comportamiento de un objeto."
      ],
      "metadata": {
        "id": "OWAp9ZAIL6Qj"
      },
      "id": "OWAp9ZAIL6Qj"
    },
    {
      "cell_type": "markdown",
      "source": [
        "**El constructor**"
      ],
      "metadata": {
        "id": "0sqxgkWILd00"
      },
      "id": "0sqxgkWILd00"
    },
    {
      "cell_type": "markdown",
      "source": [
        "En python todo es un objeto, todos los objetos en python heredan indirectamente de la clase generica Object."
      ],
      "metadata": {
        "id": "7W3cck3fMgme"
      },
      "id": "7W3cck3fMgme"
    },
    {
      "cell_type": "code",
      "source": [
        "print(isinstance(cuadrado, object))"
      ],
      "metadata": {
        "colab": {
          "base_uri": "https://localhost:8080/"
        },
        "id": "gXtxKk9iM3qw",
        "outputId": "eb8fa6dc-ea43-403c-a01e-2b0b1b54e618"
      },
      "id": "gXtxKk9iM3qw",
      "execution_count": null,
      "outputs": [
        {
          "output_type": "stream",
          "name": "stdout",
          "text": [
            "True\n"
          ]
        }
      ]
    },
    {
      "cell_type": "markdown",
      "source": [
        "Metodos heredados"
      ],
      "metadata": {
        "id": "FhjfgA17N7yJ"
      },
      "id": "FhjfgA17N7yJ"
    },
    {
      "cell_type": "code",
      "source": [
        "print(dir(cuadrado))"
      ],
      "metadata": {
        "colab": {
          "base_uri": "https://localhost:8080/"
        },
        "id": "5g3NA5zSOB8O",
        "outputId": "e517d82a-d376-431a-fc17-2fbc4709e58e"
      },
      "id": "5g3NA5zSOB8O",
      "execution_count": null,
      "outputs": [
        {
          "output_type": "stream",
          "name": "stdout",
          "text": [
            "['__class__', '__delattr__', '__dict__', '__dir__', '__doc__', '__eq__', '__format__', '__ge__', '__getattribute__', '__gt__', '__hash__', '__init__', '__init_subclass__', '__le__', '__lt__', '__module__', '__ne__', '__new__', '__reduce__', '__reduce_ex__', '__repr__', '__setattr__', '__sizeof__', '__str__', '__subclasshook__', '__weakref__']\n"
          ]
        }
      ]
    },
    {
      "cell_type": "markdown",
      "source": [
        "Implicitamente se implementa el constructor por defecto cuando creamos una clase"
      ],
      "metadata": {
        "id": "AmBPwL9pOhiP"
      },
      "id": "AmBPwL9pOhiP"
    },
    {
      "cell_type": "code",
      "source": [
        "class MiClase:\n",
        "    pass\n",
        "\n",
        "miclase = MiClase() # Los parentesis indican la llamada a una funcion / metodo\n",
        "# Este metodo es el constructor que esta implentado implícitamente"
      ],
      "metadata": {
        "id": "GUuywQeIOcyU"
      },
      "id": "GUuywQeIOcyU",
      "execution_count": null,
      "outputs": []
    },
    {
      "cell_type": "markdown",
      "source": [
        "En python no contamos con un keyword new como en otros lenguajes, sin embargo el metodo __new__ es implementado implicitamente, al crear una clase el interprete llama al 'metodo magico' __call__ el cual llama a __new__ este a su vez llama a __init__ para inicializar el objeto y luego retorna el control a __new__ que crea la instancia del objeto y retorna el control a __call__ esto sucede a nivel interno sin que nos percatemos (un ejemplo claro de abstracción)."
      ],
      "metadata": {
        "id": "_9wEavJdPaFf"
      },
      "id": "_9wEavJdPaFf"
    },
    {
      "cell_type": "code",
      "source": [
        "class A(object):\n",
        "    \n",
        "    def __new__(cls): # Constructor\n",
        "        print(\"A.__new__ es llamado\")\n",
        "        return super(A, cls).__new__(cls)\n",
        "\n",
        "    def __init__(self): # Inicializador\n",
        "        print(\"A.__init__ es llamado\")\n",
        "\n",
        "A()"
      ],
      "metadata": {
        "colab": {
          "base_uri": "https://localhost:8080/"
        },
        "id": "MhVj8Cv9SLmC",
        "outputId": "c92b691e-a846-42b9-baa1-1a583b8b9579"
      },
      "id": "MhVj8Cv9SLmC",
      "execution_count": null,
      "outputs": [
        {
          "output_type": "stream",
          "name": "stdout",
          "text": [
            "A.__new__ es llamado\n",
            "A.__init__ es llamado\n"
          ]
        },
        {
          "output_type": "execute_result",
          "data": {
            "text/plain": [
              "<__main__.A at 0x7f9c82bb1150>"
            ]
          },
          "metadata": {},
          "execution_count": 22
        }
      ]
    },
    {
      "cell_type": "markdown",
      "source": [
        "De manera que el constructor como tal tiene una implementacion interna y solo debemos centrarnos en el inicializador __init__, en el es donde inicializamos todos los atributos de instancia."
      ],
      "metadata": {
        "id": "0S_tYmHaTMK1"
      },
      "id": "0S_tYmHaTMK1"
    },
    {
      "cell_type": "code",
      "source": [
        "class Square: # Declaración de clase\n",
        "    def __init__(self, width: int = 0): # Inicializador \n",
        "        self.width = width # Atributo de instancia\n",
        "\n",
        "cuadrado = Square(4) # Instanciación \n",
        "print(f'Objeto cuadrado tiene un ancho de {cuadrado.width}')\n",
        "# Usamos la notacion punto para acceder a sus atributos"
      ],
      "metadata": {
        "colab": {
          "base_uri": "https://localhost:8080/"
        },
        "id": "7oYSMYACTnBR",
        "outputId": "88a7e560-16a7-4322-a245-e9574a991de2"
      },
      "id": "7oYSMYACTnBR",
      "execution_count": null,
      "outputs": [
        {
          "output_type": "stream",
          "name": "stdout",
          "text": [
            "Objeto cuadrado tiene un ancho de 4\n"
          ]
        }
      ]
    },
    {
      "cell_type": "markdown",
      "source": [
        "Comportamiento de un cuadrado: calcular su area"
      ],
      "metadata": {
        "id": "LFbv6aXdWsFV"
      },
      "id": "LFbv6aXdWsFV"
    },
    {
      "cell_type": "code",
      "source": [
        "class Square: # Declaración de clase\n",
        "    def __init__(self, width: int = 0): # Inicializador \n",
        "        self.width = width # Atributo de instancia\n",
        "        self.area = 0 # Se debe crear el atributo\n",
        "    \n",
        "    def calcular_area(self): # Metodo -> usa snakecase\n",
        "        # self significa uno mismo hace referencia a la instancia como tal\n",
        "        self.area = self.width**2 # Area = base * altura\n",
        "        # Los lados de un cuadrado son iguales\n",
        "\n",
        "cuadrado = Square(4) # Instanciación \n",
        "print(f'Objeto cuadrado tiene un ancho de {cuadrado.width}')\n",
        "# Usamos la notacion punto para acceder a sus atributos\n",
        "print(f'Area del cuadrado: {cuadrado.area}') # Aun no se ha calculado el area\n",
        "cuadrado.calcular_area() # Llamada al metodo/comportamiento de calcular el area\n",
        "print(f'Area del cuadrado: {cuadrado.area}')"
      ],
      "metadata": {
        "colab": {
          "base_uri": "https://localhost:8080/"
        },
        "id": "lA7EJ5HYW2aE",
        "outputId": "d87de0ec-7f21-4898-af11-30a2b31a3632"
      },
      "id": "lA7EJ5HYW2aE",
      "execution_count": null,
      "outputs": [
        {
          "output_type": "stream",
          "name": "stdout",
          "text": [
            "Objeto cuadrado tiene un ancho de 4\n",
            "Area del cuadrado: 0\n",
            "Area del cuadrado: 16\n"
          ]
        }
      ]
    },
    {
      "cell_type": "markdown",
      "source": [
        "Ejemplo -> objeto persona"
      ],
      "metadata": {
        "id": "Y8n98S0UZ4fh"
      },
      "id": "Y8n98S0UZ4fh"
    },
    {
      "cell_type": "code",
      "source": [
        "class Persona:\n",
        "    # Atributos \n",
        "    # ------------------------------------------\n",
        "    def __init__(self, nombre, apellido, edad):\n",
        "        self.nombre = nombre\n",
        "        self.apellido = apellido\n",
        "        self.edad = edad\n",
        "    # ------------------------------\n",
        "    # Comportamiento\n",
        "    # ---------------------------\n",
        "    def presentarse(self):\n",
        "        return f' Hola! Mi nombre es {self.nombre} {self.apellido} tengo la edad de {self.edad}'"
      ],
      "metadata": {
        "id": "EYmdTf74Z9Ss"
      },
      "id": "EYmdTf74Z9Ss",
      "execution_count": null,
      "outputs": []
    },
    {
      "cell_type": "code",
      "source": [
        "persona1 = Persona('Pedro', 'Flores', 22)\n",
        "persona1.presentarse()"
      ],
      "metadata": {
        "colab": {
          "base_uri": "https://localhost:8080/",
          "height": 72
        },
        "id": "icz5PQBAbONf",
        "outputId": "3fdacd41-13f4-4b3c-af6c-a27fae4463b7"
      },
      "id": "icz5PQBAbONf",
      "execution_count": null,
      "outputs": [
        {
          "output_type": "execute_result",
          "data": {
            "text/plain": [
              "' Hola! Mi nombre es Pedro Flores tengo la edad de 22'"
            ],
            "application/vnd.google.colaboratory.intrinsic+json": {
              "type": "string"
            }
          },
          "metadata": {},
          "execution_count": 43
        }
      ]
    },
    {
      "cell_type": "code",
      "source": [
        "persona1.nombre = 'Juan'\n",
        "persona1.presentarse()"
      ],
      "metadata": {
        "colab": {
          "base_uri": "https://localhost:8080/",
          "height": 72
        },
        "id": "1VI-7ViVcJ0G",
        "outputId": "148ca9ba-5d37-4b38-c252-c24767b81c2e"
      },
      "id": "1VI-7ViVcJ0G",
      "execution_count": null,
      "outputs": [
        {
          "output_type": "execute_result",
          "data": {
            "text/plain": [
              "' Hola! Mi nombre es Juan Flores tengo la edad de 22'"
            ],
            "application/vnd.google.colaboratory.intrinsic+json": {
              "type": "string"
            }
          },
          "metadata": {},
          "execution_count": 46
        }
      ]
    },
    {
      "cell_type": "code",
      "source": [
        "persona1.apellido = 'Lopez'\n",
        "persona1.edad = 26\n",
        "persona1.presentarse()"
      ],
      "metadata": {
        "colab": {
          "base_uri": "https://localhost:8080/",
          "height": 54
        },
        "id": "ZDMc5PWBcgns",
        "outputId": "3b80336d-c3ea-42d9-9bb7-78340748b668"
      },
      "id": "ZDMc5PWBcgns",
      "execution_count": null,
      "outputs": [
        {
          "output_type": "execute_result",
          "data": {
            "text/plain": [
              "' Hola! Mi nombre es Juan Lopez tengo la edad de 26'"
            ],
            "application/vnd.google.colaboratory.intrinsic+json": {
              "type": "string"
            }
          },
          "metadata": {},
          "execution_count": 47
        }
      ]
    },
    {
      "cell_type": "markdown",
      "source": [
        "**Encapsulación**\n",
        "La encapsulación se refiere a impedir el acceso a determinados métodos y atributos de los objetos estableciendo así qué puede utilizarse \n",
        "desde fuera de la clase."
      ],
      "metadata": {
        "id": "VDvRcmyXezlU"
      },
      "id": "VDvRcmyXezlU"
    },
    {
      "cell_type": "markdown",
      "source": [
        "Atributos y metodos privados:\n",
        "    En python no existen los metodos o atributos privados como tal.\n",
        "    En su lugar tenemos a disposición la convencion _atributo , _metodo.\n",
        "    Tambien disponemos del name mangling."
      ],
      "metadata": {
        "id": "YDmtvLIwe_Is"
      },
      "id": "YDmtvLIwe_Is"
    },
    {
      "cell_type": "code",
      "source": [
        "class Square: # Declaración de clase\n",
        "    def __init__(self, width: int = 0): # Inicializador \n",
        "        self.width = width # Atributo de instancia\n",
        "        self.area = 0 # Se debe crear el atributo\n",
        "    \n",
        "    def calcular_area(self): # Metodo -> usa snakecase\n",
        "        # self significa uno mismo hace referencia a la instancia como tal\n",
        "        self.area = self.width**2 # Area = base * altura\n",
        "        # Los lados de un cuadrado son iguales\n",
        "\n",
        "cuadrado = Square(4) # Instanciación \n",
        "print(f'Objeto cuadrado tiene un ancho de {cuadrado.width}')\n",
        "# Usamos la notacion punto para acceder a sus atributos\n",
        "print(f'Area del cuadrado: {cuadrado.area}') # Aun no se ha calculado el area\n",
        "cuadrado.calcular_area() # Llamada al metodo/comportamiento de calcular el area\n",
        "print(f'Area del cuadrado: {cuadrado.area}')"
      ],
      "metadata": {
        "colab": {
          "base_uri": "https://localhost:8080/"
        },
        "id": "A2HdGewBgBjB",
        "outputId": "85fb5e70-11d6-46ed-9a49-9bbc4f3e4415"
      },
      "id": "A2HdGewBgBjB",
      "execution_count": null,
      "outputs": [
        {
          "output_type": "stream",
          "name": "stdout",
          "text": [
            "Objeto cuadrado tiene un ancho de 4\n",
            "Area del cuadrado: 0\n",
            "Area del cuadrado: 16\n"
          ]
        }
      ]
    },
    {
      "cell_type": "code",
      "source": [
        "print(f'Area del cuadrado: {cuadrado.area}')\n",
        "cuadrado.area = 24\n",
        "print(f'Area del cuadrado: {cuadrado.area}')\n",
        "print(f'Ancho del cuadrado: {cuadrado.width}')"
      ],
      "metadata": {
        "colab": {
          "base_uri": "https://localhost:8080/"
        },
        "id": "ZZiPIxOlgIm0",
        "outputId": "67052214-08d8-48ea-e11b-59c089744f24"
      },
      "id": "ZZiPIxOlgIm0",
      "execution_count": null,
      "outputs": [
        {
          "output_type": "stream",
          "name": "stdout",
          "text": [
            "Area del cuadrado: 24\n",
            "Area del cuadrado: 24\n",
            "Ancho del cuadrado: 4\n"
          ]
        }
      ]
    },
    {
      "cell_type": "markdown",
      "source": [
        "Uso de convencion: _atributo y _metodo"
      ],
      "metadata": {
        "id": "AB7DYplShfqt"
      },
      "id": "AB7DYplShfqt"
    },
    {
      "cell_type": "code",
      "source": [
        "class SquarePrivado: # Declaración de clase\n",
        "    def __init__(self, width: int = 0): # Inicializador \n",
        "        self._width = width # Atributo de instancia\n",
        "        self._area = 0 # Se debe crear el atributo\n",
        "    \n",
        "    def calcular_area(self): # Metodo -> usa snakecase\n",
        "        # self significa uno mismo hace referencia a la instancia como tal\n",
        "        self._area = self._width**2 # Area = base * altura\n",
        "        # Los lados de un cuadrado son iguales"
      ],
      "metadata": {
        "id": "Gs4NfsN0hIpm"
      },
      "id": "Gs4NfsN0hIpm",
      "execution_count": null,
      "outputs": []
    },
    {
      "cell_type": "code",
      "source": [
        "cuadrado = SquarePrivado(8)\n",
        "cuadrado.calcular_area()\n",
        "print(f'Area del cuadrado: {cuadrado._area}')\n",
        "cuadrado._area = 5\n",
        "print(f'Area del cuadrado: {cuadrado._area}')\n",
        "print(f'Ancho del cuadrado: {cuadrado._width}')"
      ],
      "metadata": {
        "colab": {
          "base_uri": "https://localhost:8080/"
        },
        "id": "MyuLA_YDhu2u",
        "outputId": "1438e199-a1dc-4404-f063-4e27f1614da2"
      },
      "id": "MyuLA_YDhu2u",
      "execution_count": null,
      "outputs": [
        {
          "output_type": "stream",
          "name": "stdout",
          "text": [
            "Area del cuadrado: 64\n",
            "Area del cuadrado: 5\n",
            "Ancho del cuadrado: 8\n"
          ]
        }
      ]
    },
    {
      "cell_type": "markdown",
      "source": [
        "Uso de name mangling __atributo, __metodo"
      ],
      "metadata": {
        "id": "YYphRqBBi8Ol"
      },
      "id": "YYphRqBBi8Ol"
    },
    {
      "cell_type": "markdown",
      "source": [
        "\n",
        "Con el uso del doble guion bajo  le indicamos al interprete de Python que sobre escriba el nombre de los atributos y métodos, esto con la finalidad de evitar el conflictos con el namespace.\n",
        "Si examinamos los atributos del objeto podremos percatarnos que, todos aquellos atributos con un doble guion bajo  como prefijo, el interprete les ha cambiado el nombre."
      ],
      "metadata": {
        "id": "oWeRJQETjGqB"
      },
      "id": "oWeRJQETjGqB"
    },
    {
      "cell_type": "markdown",
      "source": [
        "La modificacion de nombres se da de la siguiente manera ____atributo -> ___nombredeclase__atributo, se le antepone al atributo o metodo en cuestion un guion bajo y nombre de la clase que lo contiene"
      ],
      "metadata": {
        "id": "SV9y8DRRjpJw"
      },
      "id": "SV9y8DRRjpJw"
    },
    {
      "cell_type": "code",
      "source": [
        "class User:\n",
        "\n",
        "    def __init__(self, username):\n",
        "        self.__username = username\n",
        "\n",
        "\n",
        "    def __private_method(self):\n",
        "        print('Este es un método privado')"
      ],
      "metadata": {
        "id": "ICHTFs-ekCWF"
      },
      "id": "ICHTFs-ekCWF",
      "execution_count": null,
      "outputs": []
    },
    {
      "cell_type": "code",
      "source": [
        "py = User('LuisF')\n",
        "print(py.__username)"
      ],
      "metadata": {
        "colab": {
          "base_uri": "https://localhost:8080/",
          "height": 332
        },
        "id": "GPa_ibGxkpvB",
        "outputId": "b1bc95f4-a2da-4ac7-a6ee-1d11fb5b72c6"
      },
      "id": "GPa_ibGxkpvB",
      "execution_count": null,
      "outputs": [
        {
          "output_type": "error",
          "ename": "AttributeError",
          "evalue": "ignored",
          "traceback": [
            "\u001b[0;31m---------------------------------------------------------------------------\u001b[0m",
            "\u001b[0;31mAttributeError\u001b[0m                            Traceback (most recent call last)",
            "\u001b[0;32m<ipython-input-93-c5bebf5bb452>\u001b[0m in \u001b[0;36m<module>\u001b[0;34m\u001b[0m\n\u001b[1;32m      1\u001b[0m \u001b[0mpy\u001b[0m \u001b[0;34m=\u001b[0m \u001b[0mUser\u001b[0m\u001b[0;34m(\u001b[0m\u001b[0;34m'LuisF'\u001b[0m\u001b[0;34m)\u001b[0m\u001b[0;34m\u001b[0m\u001b[0;34m\u001b[0m\u001b[0m\n\u001b[0;32m----> 2\u001b[0;31m \u001b[0mprint\u001b[0m\u001b[0;34m(\u001b[0m\u001b[0mpy\u001b[0m\u001b[0;34m.\u001b[0m\u001b[0m__username\u001b[0m\u001b[0;34m)\u001b[0m\u001b[0;34m\u001b[0m\u001b[0;34m\u001b[0m\u001b[0m\n\u001b[0m",
            "\u001b[0;31mAttributeError\u001b[0m: 'User' object has no attribute '__username'"
          ]
        }
      ]
    },
    {
      "cell_type": "code",
      "source": [
        "dir(py)"
      ],
      "metadata": {
        "colab": {
          "base_uri": "https://localhost:8080/"
        },
        "id": "kqQ9D533oDLZ",
        "outputId": "d606070c-9f65-4d4b-f942-70eda70f0d57"
      },
      "id": "kqQ9D533oDLZ",
      "execution_count": null,
      "outputs": [
        {
          "output_type": "execute_result",
          "data": {
            "text/plain": [
              "['_User__private_method',\n",
              " '_User__username',\n",
              " '__class__',\n",
              " '__delattr__',\n",
              " '__dict__',\n",
              " '__dir__',\n",
              " '__doc__',\n",
              " '__eq__',\n",
              " '__format__',\n",
              " '__ge__',\n",
              " '__getattribute__',\n",
              " '__gt__',\n",
              " '__hash__',\n",
              " '__init__',\n",
              " '__init_subclass__',\n",
              " '__le__',\n",
              " '__lt__',\n",
              " '__module__',\n",
              " '__ne__',\n",
              " '__new__',\n",
              " '__reduce__',\n",
              " '__reduce_ex__',\n",
              " '__repr__',\n",
              " '__setattr__',\n",
              " '__sizeof__',\n",
              " '__str__',\n",
              " '__subclasshook__',\n",
              " '__weakref__']"
            ]
          },
          "metadata": {},
          "execution_count": 94
        }
      ]
    },
    {
      "cell_type": "markdown",
      "source": [
        "Esto agrega un poco de complejidad de manera que el atributo o metodo no sera accesible tan facilmente, sin embargo sigue siendo accesible."
      ],
      "metadata": {
        "id": "5ZiK_aJdlcn7"
      },
      "id": "5ZiK_aJdlcn7"
    },
    {
      "cell_type": "code",
      "source": [
        "print(py._User__username)"
      ],
      "metadata": {
        "colab": {
          "base_uri": "https://localhost:8080/"
        },
        "id": "VEIBq9TroyJH",
        "outputId": "19d3b433-7269-4cea-8b5a-729ff8c2d395"
      },
      "id": "VEIBq9TroyJH",
      "execution_count": null,
      "outputs": [
        {
          "output_type": "stream",
          "name": "stdout",
          "text": [
            "LuisF\n"
          ]
        }
      ]
    },
    {
      "cell_type": "markdown",
      "source": [
        "De esta manera podemos encapsular nuestro codigo creando metodos y atributos de cierta forma privados y que pueden ser accesibles desde metodos publicos, permitiendonos la abstracción."
      ],
      "metadata": {
        "id": "INLtk9fkqZsB"
      },
      "id": "INLtk9fkqZsB"
    },
    {
      "cell_type": "code",
      "source": [
        "class User:\n",
        "\n",
        "    def __init__(self, username):\n",
        "        self.__username = username\n",
        "\n",
        "\n",
        "    def __private_method(self):\n",
        "        print('Este es un método privado')\n",
        "\n",
        "\n",
        "    def public_method(self):\n",
        "        print(self.__username) # Accediendo al atributo privado\n",
        "        self.__private_method() # Accediento al metodo privado\n",
        "\n",
        "\n",
        "py = User('Admin')\n",
        "py.public_method()"
      ],
      "metadata": {
        "colab": {
          "base_uri": "https://localhost:8080/"
        },
        "id": "7x0cWoTcqvLc",
        "outputId": "304c1a45-2062-4120-fa1a-5de61b79b77f"
      },
      "id": "7x0cWoTcqvLc",
      "execution_count": null,
      "outputs": [
        {
          "output_type": "stream",
          "name": "stdout",
          "text": [
            "Admin\n",
            "Este es un método privado\n"
          ]
        }
      ]
    },
    {
      "cell_type": "markdown",
      "source": [
        "**Metodos Getter y Setter**"
      ],
      "metadata": {
        "id": "4og7DLturUzs"
      },
      "id": "4og7DLturUzs"
    },
    {
      "cell_type": "markdown",
      "source": [
        "Estos metodos nos facilitan el acceso a los atributos privados que usan name mangling, aunque su principal relevancia recae en que nos permiten agregar logica de validacion antes de asignar o obtener el valor de un atributo de nuestro objeto."
      ],
      "metadata": {
        "id": "9Xc3mBXmrZd_"
      },
      "id": "9Xc3mBXmrZd_"
    },
    {
      "cell_type": "code",
      "source": [
        "class Square(): # Clase\n",
        "    def __init__(self, side): # Inicializador\n",
        "        self.__side = side\n",
        "        self.__area = self.__calculate_area() # Llamamos metodo privado para calcular el area\n",
        "\n",
        "    def __calculate_area(self): # Metodo privado\n",
        "        return self.__side**2\n",
        "\n",
        "    def set_area(self, area): # Setter\n",
        "        self.__area = area\n",
        "        self.__side = area**.5\n",
        "\n",
        "    def get_area(self): # Getter\n",
        "        return self.__area\n",
        "\n",
        "    def set_side(self, side): # Setter\n",
        "        self.__side = side\n",
        "        self.__area = self.__calculate_area()\n",
        "\n",
        "    def get_side(self): # Getter\n",
        "        return self.__side"
      ],
      "metadata": {
        "id": "O3AkRjifxpvD"
      },
      "id": "O3AkRjifxpvD",
      "execution_count": null,
      "outputs": []
    },
    {
      "cell_type": "code",
      "source": [
        "cuad1 = Square(6)\n",
        "print(f'Area del Cuadrado {cuad1.get_area()}')\n",
        "print(f'Lado del cuadrado {cuad1.get_side()}')"
      ],
      "metadata": {
        "colab": {
          "base_uri": "https://localhost:8080/"
        },
        "id": "ZbZIloxZ0dqu",
        "outputId": "0d127399-8405-4f6f-d922-c0dfa64e557c"
      },
      "id": "ZbZIloxZ0dqu",
      "execution_count": null,
      "outputs": [
        {
          "output_type": "stream",
          "name": "stdout",
          "text": [
            "Area del Cuadrado 36\n",
            "Lado del cuadrado 6\n"
          ]
        }
      ]
    },
    {
      "cell_type": "code",
      "source": [
        "cuad1.set_side(8)\n",
        "print(f'Area del Cuadrado {cuad1.get_area()}')\n",
        "print(f'Lado del cuadrado {cuad1.get_side()}')"
      ],
      "metadata": {
        "colab": {
          "base_uri": "https://localhost:8080/"
        },
        "id": "9_YMWYJw1ms9",
        "outputId": "846df689-a730-4df6-d230-99533f834df8"
      },
      "id": "9_YMWYJw1ms9",
      "execution_count": null,
      "outputs": [
        {
          "output_type": "stream",
          "name": "stdout",
          "text": [
            "Area del Cuadrado 64\n",
            "Lado del cuadrado 8\n"
          ]
        }
      ]
    },
    {
      "cell_type": "code",
      "source": [
        "cuad1.set_area(81)\n",
        "print(f'Area del Cuadrado {cuad1.get_area()}')\n",
        "print(f'Lado del cuadrado {cuad1.get_side()}')"
      ],
      "metadata": {
        "colab": {
          "base_uri": "https://localhost:8080/"
        },
        "id": "WrUeMFDE2Ufg",
        "outputId": "45aac231-ac72-467a-fb73-6b2696726feb"
      },
      "id": "WrUeMFDE2Ufg",
      "execution_count": null,
      "outputs": [
        {
          "output_type": "stream",
          "name": "stdout",
          "text": [
            "Area del Cuadrado 81\n",
            "Lado del cuadrado 9.0\n"
          ]
        }
      ]
    },
    {
      "cell_type": "markdown",
      "source": [
        "**Decoradores**"
      ],
      "metadata": {
        "id": "CnylZC0g3PWe"
      },
      "id": "CnylZC0g3PWe"
    },
    {
      "cell_type": "markdown",
      "source": [
        "Funcion anidad: es una funcion dentro de otra."
      ],
      "metadata": {
        "id": "O4IENK6A3SrA"
      },
      "id": "O4IENK6A3SrA"
    },
    {
      "cell_type": "code",
      "source": [
        "def a():\n",
        "    def b(): # Nested function\n",
        "        return 'world'\n",
        "    return f'Hello {b()}'\n",
        "\n",
        "great = a()\n",
        "print(great)"
      ],
      "metadata": {
        "colab": {
          "base_uri": "https://localhost:8080/"
        },
        "id": "M5wCxZwP94ns",
        "outputId": "9900c542-f970-46a7-cd39-62e5a83c6e52"
      },
      "id": "M5wCxZwP94ns",
      "execution_count": null,
      "outputs": [
        {
          "output_type": "stream",
          "name": "stdout",
          "text": [
            "Hello world\n"
          ]
        }
      ]
    },
    {
      "cell_type": "markdown",
      "source": [
        "Las funciones son ciudadanos de primer orden."
      ],
      "metadata": {
        "id": "wbD_dVxy3v9B"
      },
      "id": "wbD_dVxy3v9B"
    },
    {
      "cell_type": "code",
      "source": [
        "def a():\n",
        "    print('hi func')\n",
        "\n",
        "func = a\n",
        "func()\n",
        "print(f'Tipo de func: {type(func)}')"
      ],
      "metadata": {
        "id": "Tw1VIknT3znQ",
        "colab": {
          "base_uri": "https://localhost:8080/"
        },
        "outputId": "1e5197ea-7832-4fca-f946-7b2463dd27bf"
      },
      "id": "Tw1VIknT3znQ",
      "execution_count": null,
      "outputs": [
        {
          "output_type": "stream",
          "name": "stdout",
          "text": [
            "hi func\n",
            "Tipo de func: <class 'function'>\n"
          ]
        }
      ]
    },
    {
      "cell_type": "markdown",
      "source": [
        "Funcion de orden superior: es una funcion que recive o retorna otra funcion."
      ],
      "metadata": {
        "id": "Hxq6sPcM3oQW"
      },
      "id": "Hxq6sPcM3oQW"
    },
    {
      "cell_type": "code",
      "source": [
        "def high_order(func):\n",
        "    print('high ', end='')\n",
        "    return func\n",
        "\n",
        "def function():\n",
        "    return 'order function'\n",
        "\n",
        "func = high_order(function)\n",
        "\n",
        "func()"
      ],
      "metadata": {
        "colab": {
          "base_uri": "https://localhost:8080/",
          "height": 36
        },
        "id": "kl4g715s7RmC",
        "outputId": "22c03024-b068-4ecd-afef-b8cde7f6e0a9"
      },
      "id": "kl4g715s7RmC",
      "execution_count": null,
      "outputs": [
        {
          "output_type": "stream",
          "name": "stdout",
          "text": [
            "high "
          ]
        },
        {
          "output_type": "execute_result",
          "data": {
            "text/plain": [
              "'order function'"
            ],
            "application/vnd.google.colaboratory.intrinsic+json": {
              "type": "string"
            }
          },
          "metadata": {},
          "execution_count": 117
        }
      ]
    },
    {
      "cell_type": "markdown",
      "source": [
        "Decorador: un decorador es una funcion que recive otra funcion la decora (le agrega funcionalidades) y la retorna (decorada -> con funcionalidades extra)."
      ],
      "metadata": {
        "id": "FEqcNvTw_PwX"
      },
      "id": "FEqcNvTw_PwX"
    },
    {
      "cell_type": "code",
      "source": [
        "def funcion_a(funcion_b): # Funcion decoradora -> funcion de orden superior\n",
        "    def funcion_c(): # Funcion anidada\n",
        "        print('Antes de la ejecución de la función a decorar')\n",
        "        funcion_b() # Funcion decorada\n",
        "        print('Después de la ejecución de la función a decorar')\n",
        "\n",
        "    return funcion_c # Retorna funcion decorada\n",
        "\n",
        "def funct_decorada():\n",
        "    print('funcion decorada')\n",
        "\n",
        "decorada = funcion_a(funct_decorada)\n",
        "decorada()"
      ],
      "metadata": {
        "id": "UHet0c5B_j70",
        "colab": {
          "base_uri": "https://localhost:8080/"
        },
        "outputId": "2bbe8c39-2ba1-4548-fa75-40ab8c6b3903"
      },
      "id": "UHet0c5B_j70",
      "execution_count": null,
      "outputs": [
        {
          "output_type": "stream",
          "name": "stdout",
          "text": [
            "Antes de la ejecución de la función a decorar\n",
            "funcion decorada\n",
            "Después de la ejecución de la función a decorar\n"
          ]
        }
      ]
    },
    {
      "cell_type": "markdown",
      "source": [
        "Azucar sintáctico"
      ],
      "metadata": {
        "id": "udJXHDoCURjw"
      },
      "id": "udJXHDoCURjw"
    },
    {
      "cell_type": "code",
      "source": [
        "@funcion_a\n",
        "def funct_decorada():\n",
        "    print('funcion decorada')\n",
        "\n",
        "funct_decorada()"
      ],
      "metadata": {
        "colab": {
          "base_uri": "https://localhost:8080/"
        },
        "id": "qmedzXt7VKY-",
        "outputId": "b499d52e-dbad-4610-d44a-cdb2658729ac"
      },
      "id": "qmedzXt7VKY-",
      "execution_count": null,
      "outputs": [
        {
          "output_type": "stream",
          "name": "stdout",
          "text": [
            "Antes de la ejecución de la función a decorar\n",
            "funcion decorada\n",
            "Después de la ejecución de la función a decorar\n"
          ]
        }
      ]
    },
    {
      "cell_type": "code",
      "source": [
        "@funcion_a\n",
        "def saludar():\n",
        "    print('Hola mundo!!')\n",
        "\n",
        "saludar()"
      ],
      "metadata": {
        "colab": {
          "base_uri": "https://localhost:8080/"
        },
        "id": "3HIMzftWVAFg",
        "outputId": "0e20cf60-f822-453d-949e-637b20dc6222"
      },
      "id": "3HIMzftWVAFg",
      "execution_count": null,
      "outputs": [
        {
          "output_type": "stream",
          "name": "stdout",
          "text": [
            "Antes de la ejecución de la función a decorar\n",
            "Hola mundo!!\n",
            "Después de la ejecución de la función a decorar\n"
          ]
        }
      ]
    },
    {
      "cell_type": "code",
      "source": [
        "class Square:\n",
        "    def __init__(self, side):\n",
        "        self.__side = side\n",
        "        self.__area = side**2\n",
        "\n",
        "    @property\n",
        "    def area(self):\n",
        "        return self.__area\n",
        "\n",
        "    @area.setter\n",
        "    def area(self, area):\n",
        "        self.__side = a**.5\n",
        "        self.__area = a\n",
        "\n",
        "    @property\n",
        "    def side(self):\n",
        "        return self.__side\n",
        "\n",
        "    @area.setter\n",
        "    def area(self, side):\n",
        "        self.__side = side\n",
        "        self.__area = side**2\n",
        "    \n",
        "\n",
        "\n",
        "    "
      ],
      "metadata": {
        "id": "VahxaEghWGR3"
      },
      "id": "VahxaEghWGR3",
      "execution_count": null,
      "outputs": []
    },
    {
      "cell_type": "code",
      "source": [
        "cuadrado = Square(8)\n",
        "print(cuadrado.area)"
      ],
      "metadata": {
        "colab": {
          "base_uri": "https://localhost:8080/"
        },
        "id": "xb1YbvZ9Xbr_",
        "outputId": "71e197c3-9864-4c92-86a9-8c2273accd56"
      },
      "id": "xb1YbvZ9Xbr_",
      "execution_count": null,
      "outputs": [
        {
          "output_type": "stream",
          "name": "stdout",
          "text": [
            "64\n"
          ]
        }
      ]
    },
    {
      "cell_type": "code",
      "source": [
        "cuadrado.area = 4\n",
        "print(cuadrado.area)\n",
        "print(cuadrado.side)\n"
      ],
      "metadata": {
        "colab": {
          "base_uri": "https://localhost:8080/"
        },
        "id": "mHntTlJve97u",
        "outputId": "bc309d79-0a8d-42d6-84ba-cd45f4ef433a"
      },
      "id": "mHntTlJve97u",
      "execution_count": null,
      "outputs": [
        {
          "output_type": "stream",
          "name": "stdout",
          "text": [
            "16\n",
            "4\n"
          ]
        }
      ]
    },
    {
      "cell_type": "markdown",
      "source": [
        "**Herencia**"
      ],
      "metadata": {
        "id": "SVFuH7vQiQiC"
      },
      "id": "SVFuH7vQiQiC"
    },
    {
      "cell_type": "code",
      "source": [
        "class Vehiculo:\n",
        " \n",
        "    def __init__(self, nombre, color):\n",
        "        self.__nombre = nombre      # __name es privado\n",
        "        self.__color = color\n",
        " \n",
        "    def getColor(self):         # getColor() funcion accesible a la clase Auto\n",
        "        return self.__color\n",
        " \n",
        "    def setColor(self, color):  # setColor es accesible fuera de la clase\n",
        "        self.__color = color\n",
        " \n",
        "    def getNombre(self):          # getNombre() es accesible fuera de la clase\n",
        "        return self.__nombre\n",
        " \n",
        "class Auto(Vehiculo):\n",
        " \n",
        "    def __init__(self, nombre, color, modelo):\n",
        "        # Llamada al constructor para establecer nombre y color  \n",
        "        super().__init__(nombre, color)       \n",
        "        self.__modelo = modelo\n",
        " \n",
        "    def getDescripcion(self):\n",
        "        return self.getNombre() + self.__modelo + \" de color \" + self.getColor() \n",
        "\n",
        "# En el método getDescripcion podemos llamar a getNombre() y getColor porque\n",
        "# son accesibles al pasar la herencia a la clase Derivada (Auto)\n",
        "\n",
        "c = Auto(\"Ford Mustang\", \"rojo\", \"GT350\")\n",
        "print(c.getDescripcion())\n",
        "print(c.getNombre()) # La clase auto no tiene un método getNombre() pero es accesible de la clase heredada Vehiculo\n",
        "\n",
        "\n",
        "    "
      ],
      "metadata": {
        "colab": {
          "base_uri": "https://localhost:8080/"
        },
        "id": "tzqPMr1UiT90",
        "outputId": "987767cd-ae3a-47f3-d7bf-d452cfed0aef"
      },
      "id": "tzqPMr1UiT90",
      "execution_count": null,
      "outputs": [
        {
          "output_type": "stream",
          "name": "stdout",
          "text": [
            "Ford MustangGT350 de color rojo\n",
            "Ford Mustang\n"
          ]
        }
      ]
    }
  ],
  "metadata": {
    "kernelspec": {
      "display_name": "Python 3 (ipykernel)",
      "language": "python",
      "name": "python3"
    },
    "language_info": {
      "codemirror_mode": {
        "name": "ipython",
        "version": 3
      },
      "file_extension": ".py",
      "mimetype": "text/x-python",
      "name": "python",
      "nbconvert_exporter": "python",
      "pygments_lexer": "ipython3",
      "version": "3.10.6"
    },
    "colab": {
      "provenance": [],
      "collapsed_sections": [],
      "toc_visible": true
    }
  },
  "nbformat": 4,
  "nbformat_minor": 5
}