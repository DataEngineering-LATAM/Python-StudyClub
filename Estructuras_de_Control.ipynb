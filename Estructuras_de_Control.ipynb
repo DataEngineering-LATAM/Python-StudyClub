{
  "nbformat": 4,
  "nbformat_minor": 0,
  "metadata": {
    "colab": {
      "provenance": [],
      "collapsed_sections": [
        "WU-qo5cvTfWz",
        "H8R9iJekyNMe",
        "tl5xLGO3NFAT",
        "niATMkGT_Ds7",
        "_MrfjAVaXd2n",
        "hw_VSzryjK5Y",
        "KMpfyngohk3Z",
        "c68ZikHc2sh7",
        "1fpDRtYN7-cX",
        "2H3UVOd--v-q"
      ]
    },
    "kernelspec": {
      "name": "python3",
      "display_name": "Python 3"
    },
    "language_info": {
      "name": "python"
    }
  },
  "cells": [
    {
      "cell_type": "markdown",
      "source": [
        "# **Aprendiendo Python 🐍 con Data Engineering Latam**\n",
        "\n",
        "> By: [Paula Abad](https://www.linkedin.com/in/paulabadt/)\n",
        "\n"
      ],
      "metadata": {
        "id": "HhyEmAixYgWj"
      }
    },
    {
      "cell_type": "markdown",
      "source": [
        "# **Estructuras de Control**\n",
        "\n",
        "Definamos primero que es un Algoritmo: es un conjunto de pasos (tareas / procedimientos / instrucciones) organizados y ejecutados lógica y sintácticamente, que le indican al computador que debe hacer para encontrar la solución de un problema.\n",
        "\n",
        "\n"
      ],
      "metadata": {
        "id": "WU-qo5cvTfWz"
      }
    },
    {
      "cell_type": "code",
      "source": [
        "poner_agua_hervir() \n",
        "cortar_pollo() \n",
        "freir_pollo() \n",
        "vertir_taza_de_arroz() \n",
        "mezclar_pollo_arroz() "
      ],
      "metadata": {
        "id": "oMsw8JotfulZ"
      },
      "execution_count": null,
      "outputs": []
    },
    {
      "cell_type": "markdown",
      "source": [
        "**¿Qué son las Estructuras de Control?**\n",
        "\n",
        "Es un bloque de código que permite modificar el flujo de la ejecución de un conjunto de instrucciones. \n",
        "\n",
        "Tipos de Estructuras de Control:\n",
        "\n",
        "\n",
        "\n",
        "*   Condicionales\n",
        "*   Iterativas"
      ],
      "metadata": {
        "id": "WFIw-OVHfwiT"
      }
    },
    {
      "cell_type": "markdown",
      "source": [
        "# **Condicionales**\n",
        "\n",
        "Son aquellas que permiten evaluar si una o más condiciones se cumplen, para decir qué acción ejecutar. La evaluación de condiciones, solo puede arrojar 1 de 2 resultados: verdadero o falso (True o False).\n",
        "\n"
      ],
      "metadata": {
        "id": "H8R9iJekyNMe"
      }
    },
    {
      "cell_type": "markdown",
      "source": [
        "Las estructuras de control de flujo condicionales, se definen mediante el uso de tres palabras claves reservadas, del lenguaje: **if (si), elif (sino, si) y else (sino).**"
      ],
      "metadata": {
        "id": "HpdiZAwPLhqn"
      }
    },
    {
      "cell_type": "markdown",
      "source": [
        "**Sintaxis If-Else**"
      ],
      "metadata": {
        "id": "7t1AJvYAit6r"
      }
    },
    {
      "cell_type": "code",
      "source": [
        "if condicion:\n",
        "    ejecutar sentencia\n",
        "else:\n",
        "    ejecutar sentencia"
      ],
      "metadata": {
        "id": "7Vb55iT2i1Ty"
      },
      "execution_count": null,
      "outputs": []
    },
    {
      "cell_type": "markdown",
      "source": [
        "Ejercicio 1:\n",
        "\n",
        "Leer un numero entero y determinar si es negativo"
      ],
      "metadata": {
        "id": "yedgHmR6KQ5u"
      }
    },
    {
      "cell_type": "code",
      "source": [
        "numero = int (input(\"Ingrese un numero: \"))\n",
        "\n",
        "if numero < 0:\n",
        "    print(\"El numero ingresado es Negativo\")\n",
        "else:\n",
        "    print(\"El numero ingresado es Positivo\")"
      ],
      "metadata": {
        "id": "s6wDoFuFKboA",
        "colab": {
          "base_uri": "https://localhost:8080/"
        },
        "outputId": "f1ab13d2-6cf5-4b3e-9fa8-7a0fcb43eff6"
      },
      "execution_count": 34,
      "outputs": [
        {
          "output_type": "stream",
          "name": "stdout",
          "text": [
            "Ingrese un numero: 10\n",
            "El numero ingresado es Positivo\n"
          ]
        }
      ]
    },
    {
      "cell_type": "markdown",
      "source": [
        "Ejercicio 2:\n",
        "\n",
        "Leer un número entero y determinar si tiene 3 digitos"
      ],
      "metadata": {
        "id": "2juCslcaM0HP"
      }
    },
    {
      "cell_type": "code",
      "source": [
        "numero = int (input(\"Ingrese un numero:\"))\n",
        "\n",
        "if numero > 99 and numero < 1000:\n",
        "    print(\"El numero ingresado tiene 3 digitos\")\n",
        "else:\n",
        "    print(\"El numero ingresado NO tiene 3 digitos\")"
      ],
      "metadata": {
        "id": "ZnWbBcyqNB4g",
        "colab": {
          "base_uri": "https://localhost:8080/"
        },
        "outputId": "9a93fd51-e338-4391-d9fa-7928d03cd9ae"
      },
      "execution_count": 36,
      "outputs": [
        {
          "output_type": "stream",
          "name": "stdout",
          "text": [
            "Ingrese un numero:45\n",
            "El numero ingresado NO tiene 3 digitos\n"
          ]
        }
      ]
    },
    {
      "cell_type": "markdown",
      "source": [
        "Ejercicio 3:\n",
        "\n",
        "Leer un número entero de dos digitos y determinar a cuanto es igual la suma de sus digitos."
      ],
      "metadata": {
        "id": "pA34hxCbWPG7"
      }
    },
    {
      "cell_type": "code",
      "source": [
        "numero = int (input(\"Ingrese un numero de dos digitos: \"))\n",
        "\n",
        "\n",
        "if numero > 9 and numero < 100:\n",
        "    i = numero % 10\n",
        "    numero //= 10\n",
        "    suma = i + numero\n",
        "    print(\"La suma de sus digitos es:\",suma)\n",
        "else:\n",
        "    print(\"El numero no es de dos digitos\")"
      ],
      "metadata": {
        "id": "ByKaIBB1WTnv",
        "colab": {
          "base_uri": "https://localhost:8080/"
        },
        "outputId": "0ba86071-ddfb-445b-f7fd-e7122af32676"
      },
      "execution_count": 2,
      "outputs": [
        {
          "output_type": "stream",
          "name": "stdout",
          "text": [
            "Ingrese un numero de dos digitos: 5\n",
            "El numero no es de dos digitos\n"
          ]
        }
      ]
    },
    {
      "cell_type": "markdown",
      "source": [
        "# **Condicionales Anidadas**\n",
        "\n",
        "Los condicionales, permiten escribir código en su interior y en realidad, nada de impide incluso al interior de un condicional, poner otros (u otros). A eso se le llama condiciones anidados, pues una estructura condicional dentro de otra. De hecho, puedes anidar cuantos condicionales requieras, aunque no se recomienda más de dos o tres niveles."
      ],
      "metadata": {
        "id": "tl5xLGO3NFAT"
      }
    },
    {
      "cell_type": "markdown",
      "source": [
        "**Sintaxis:**"
      ],
      "metadata": {
        "id": "SSPpfdKcRnPF"
      }
    },
    {
      "cell_type": "code",
      "source": [
        "if condición:\n",
        "  if condición:\n",
        "    ejecutar sentencia\n",
        "    if condición:\n",
        "      ejecutar sentencia\n",
        "    else:\n",
        "      ejecutar sentencia\n",
        "else:\n",
        "  ejecutar sentencia"
      ],
      "metadata": {
        "id": "Y8eNUEcURp42"
      },
      "execution_count": null,
      "outputs": []
    },
    {
      "cell_type": "markdown",
      "source": [
        "Ejemplo: Definir si el número ingresado es par y si es mayor que 10."
      ],
      "metadata": {
        "id": "XPmMJCGOSGyR"
      }
    },
    {
      "cell_type": "code",
      "source": [
        "i = 34\n",
        "\n",
        "if i %  2 == 0:  # así es como creas un comentario y ahora comprueba número par.\n",
        "  if i > 10:\n",
        "    print(\"Este número es par y es mayor que 10\")\n",
        "  else:\n",
        "    print(\"Este número es par, pero no mayor a 10\")\n",
        "else:\n",
        "  print (\"El número no es par.\")"
      ],
      "metadata": {
        "colab": {
          "base_uri": "https://localhost:8080/"
        },
        "id": "EqDNUVMASeyE",
        "outputId": "822b8a10-21d6-4d57-e52f-32348ca8cd57"
      },
      "execution_count": 3,
      "outputs": [
        {
          "output_type": "stream",
          "name": "stdout",
          "text": [
            "Este número es par y es mayor que 10\n"
          ]
        }
      ]
    },
    {
      "cell_type": "markdown",
      "source": [
        "# **Sentencia elif**\n",
        "\n",
        "Se pueden verificar varias condiciones al incluir una o más verificaciones elif después de su declaración if inicial. Teniendo en cuenta que solo se ejecutará una condición."
      ],
      "metadata": {
        "id": "niATMkGT_Ds7"
      }
    },
    {
      "cell_type": "markdown",
      "source": [
        "**Sintaxis:**"
      ],
      "metadata": {
        "id": "o7ZigAWeKMAo"
      }
    },
    {
      "cell_type": "code",
      "source": [
        "if condición 1:\n",
        "  ejecutar sentencia\n",
        "elif condición 2:\n",
        "  ejecutar sentencia\n",
        "elif condicion 3:\n",
        "  ejecutar sentencia\n",
        "else:\n",
        "  ejecutar sentencia"
      ],
      "metadata": {
        "id": "EzanZ4EWKP8x"
      },
      "execution_count": null,
      "outputs": []
    },
    {
      "cell_type": "markdown",
      "source": [
        "Ejemplo:"
      ],
      "metadata": {
        "id": "PrfrGSGtKsfI"
      }
    },
    {
      "cell_type": "code",
      "source": [
        "i = 7\n",
        "\n",
        "if i > 8:\n",
        "  print(\"¡No voy a imprimir!\") #esta sentencia no se ejecuta\n",
        "elif i > 5:\n",
        "  print(\"¡Yo lo haré!\") #esta sentencia se ejecuta\n",
        "elif i > 6:\n",
        "  print(\"¡Tampoco voy a imprimir!\") #esta sentencia no se ejecuta\n",
        "else:\n",
        "  print(\"¡Yo tampoco!\") #esta sentencia no se ejecuta"
      ],
      "metadata": {
        "id": "HY0kFfmjCkAI"
      },
      "execution_count": null,
      "outputs": []
    },
    {
      "cell_type": "markdown",
      "source": [
        "# **Ejercicios para prácticar**\n",
        "\n",
        "\n",
        "\n",
        "> Leer un número entero de dos digitos y determinar si ambos dígitos son pares.\n",
        "\n"
      ],
      "metadata": {
        "id": "_MrfjAVaXd2n"
      }
    },
    {
      "cell_type": "markdown",
      "source": [
        "> Leer un número entero y determinar si es múltiplo de 7.\n",
        "\n"
      ],
      "metadata": {
        "id": "sJ8q7Gy1hiG3"
      }
    },
    {
      "cell_type": "markdown",
      "source": [
        "\n",
        "\n",
        "> Leer un número entero y determinar si es igual a 10.\n",
        "\n"
      ],
      "metadata": {
        "id": "j9jhfRu2hv55"
      }
    },
    {
      "cell_type": "markdown",
      "source": [
        "> Leer un número entero de 4 digitos y determinar si tiene más dígitos pares o impares.\n",
        "\n"
      ],
      "metadata": {
        "id": "_SxckT7-h3I1"
      }
    },
    {
      "cell_type": "markdown",
      "source": [
        "# **Iterativas**"
      ],
      "metadata": {
        "id": "hw_VSzryjK5Y"
      }
    },
    {
      "cell_type": "markdown",
      "source": [
        "Llamadas cíclicas o bucles, facilitan la repetición de un bloque de instrucciones, un número determinado de veces o mientras se cumpla una condición.\n",
        "\n",
        "Python incluye únicamente dos tipos de bucle: **while y for**."
      ],
      "metadata": {
        "id": "M-Cebamnjnfs"
      }
    },
    {
      "cell_type": "markdown",
      "source": [
        "**Iterables e iteradores**\n",
        "\n",
        "Los **iterables** son aquellos objetos que como su nombre indica pueden ser iterados, lo que dicho de otra forma es, que puedan ser indexados. Si piensas en un array (o una list en Python), podemos indexarlo con lista[1] por ejemplo, por lo que sería un iterable.\n",
        "\n",
        "\n",
        "\n",
        "```\n",
        "lista = [1, 2, 3, 4]\n",
        "cadena = \"Python\"\n",
        "```\n",
        "\n",
        "\n",
        "Los **iteradores** son objetos que hacen referencia a un elemento, y que tienen un método next que permite hacer referencia al siguiente.\n",
        "\n"
      ],
      "metadata": {
        "id": "HWKntQDwhgBZ"
      }
    },
    {
      "cell_type": "markdown",
      "source": [
        "# **For:**\n",
        "\n",
        "Establece la variable iteradora en cada valor del iterable (una lista, arreglo, range o cadena proporcionada) y repite el código en el cuerpo del bucle for para cada valor de la variable iteradora."
      ],
      "metadata": {
        "id": "KMpfyngohk3Z"
      }
    },
    {
      "cell_type": "markdown",
      "source": [
        "**Sintaxis:**"
      ],
      "metadata": {
        "id": "m02gvEz9kgG2"
      }
    },
    {
      "cell_type": "code",
      "source": [
        "for variable in elemento iterable (lista, cadena, range, etc.):\n",
        "    cuerpo del bucle"
      ],
      "metadata": {
        "id": "lV1hVI1ukje5"
      },
      "execution_count": null,
      "outputs": []
    },
    {
      "cell_type": "markdown",
      "source": [
        "Ejercicio 1: Leer un número entero y mostrar todos los enteros comprendidos entre 1 y el numero leido."
      ],
      "metadata": {
        "id": "0Q0voVABksJ2"
      }
    },
    {
      "cell_type": "code",
      "source": [
        "j = int(input('Ingrese un numero entero:'))\n",
        "\n",
        "for i in range(1, j):\n",
        "    print (i)"
      ],
      "metadata": {
        "id": "Pk6n9G7bmHfS"
      },
      "execution_count": null,
      "outputs": []
    },
    {
      "cell_type": "markdown",
      "source": [
        "Ejercicio 2: Leer un entero y mostrar todos los multiplos de 5 comprendidos entre 1 y el numero leido."
      ],
      "metadata": {
        "id": "llz5weo2tnHf"
      }
    },
    {
      "cell_type": "code",
      "source": [
        "numero = int (input(\"Ingrese un numero:\"))\n",
        "\n",
        "for i in range(1,numero):\n",
        "    if i % 5 == 0:\n",
        "        print(\"Los multiplos de 5 del numero ingresado son:\",i)"
      ],
      "metadata": {
        "id": "vW315rXltraO"
      },
      "execution_count": null,
      "outputs": []
    },
    {
      "cell_type": "markdown",
      "source": [
        "# **For Anidados**\n",
        "\n",
        "Es un bucle que se encuentra incluido en el bloque de sentencias de otro bloque. Los bucles pueden tener cualquier nivel de anidamiento (un bucle dentro de otro bucle dentro de un tercero, etc.). Al bucle que se encuentra dentro del otro se le puede denominar bucle interior o bucle interno.\n",
        "\n",
        "En los bucles anidados es importante utilizar variables de control distintas, para no obtener resultados inesperados."
      ],
      "metadata": {
        "id": "c68ZikHc2sh7"
      }
    },
    {
      "cell_type": "markdown",
      "source": [
        "Ejemplo: Iterar lista"
      ],
      "metadata": {
        "id": "0o11vFB53i-4"
      }
    },
    {
      "cell_type": "code",
      "source": [
        "lista = [[56, 34, 1],\n",
        "         [12, 4, 5],\n",
        "         [9, 4, 3]]\n",
        "\n",
        "for i in lista: #  i son las filas\n",
        "    for j in i: # j son las columnas\n",
        "        print(j)"
      ],
      "metadata": {
        "id": "2K5tnpGh3k0B"
      },
      "execution_count": null,
      "outputs": []
    },
    {
      "cell_type": "markdown",
      "source": [
        "# **Ejercicios para prácticar**\n",
        "\n",
        "\n",
        "\n",
        "> Leer un número entero de dos digitos y determinar a cuanto es igual la suma de todos los enteros comprendidos entre 1 y el numero leido\n",
        "\n"
      ],
      "metadata": {
        "id": "1fpDRtYN7-cX"
      }
    },
    {
      "cell_type": "markdown",
      "source": [
        "\n",
        "\n",
        "> Generar los números del 1 al 10 utilizando un cilo que vaya de 10 a 1\n",
        "\n"
      ],
      "metadata": {
        "id": "SJW1zhV59g34"
      }
    },
    {
      "cell_type": "markdown",
      "source": [
        "\n",
        "\n",
        "> Leer un número entero y mostrar en pantalla su tabla de multiplicar\n",
        "\n"
      ],
      "metadata": {
        "id": "21PQ6AXd-BU2"
      }
    },
    {
      "cell_type": "markdown",
      "source": [
        "\n",
        "> Mostrar en pantalla todos los números terminados en 6 comprendidos entre 25 y 205.\n",
        "\n"
      ],
      "metadata": {
        "id": "fEHce9hq-HQI"
      }
    },
    {
      "cell_type": "markdown",
      "source": [
        "# **While:**\n",
        "\n",
        "Permite repetir la ejecución de un grupo de instrucciones mientras se cumpla una condición (es decir, mientras la condición tenga el valor True)."
      ],
      "metadata": {
        "id": "2H3UVOd--v-q"
      }
    },
    {
      "cell_type": "markdown",
      "source": [
        "**Sintaxis:**"
      ],
      "metadata": {
        "id": "05E_bIK4_IEi"
      }
    },
    {
      "cell_type": "code",
      "source": [
        "while condicion:\n",
        "    cuerpo del bucle"
      ],
      "metadata": {
        "id": "YfQgR8eN_Kg0"
      },
      "execution_count": null,
      "outputs": []
    },
    {
      "cell_type": "markdown",
      "source": [
        "La ejecución de esta estructura de control while es la siguiente:\n",
        "\n",
        "Python evalúa la condición:\n",
        "Si el resultado es True se ejecuta el cuerpo del bucle. Una vez ejecutado el cuerpo del bucle, se repite el proceso (se evalúa de nuevo la condición y, si es cierta, se ejecuta de nuevo el cuerpo del bucle) una y otra vez mientras la condición sea cierta.\n",
        "Si el resultado es False, el cuerpo del bucle no se ejecuta y continúa la ejecución del resto del programa.\n",
        "\n",
        "La variable o las variables que aparezcan en la condición se suelen llamar variables de control. Las variables de control deben definirse antes del bucle while y modificarse en el bucle while."
      ],
      "metadata": {
        "id": "ba-o7cHC_O6n"
      }
    },
    {
      "cell_type": "markdown",
      "source": [
        "Ejercicio 1: muestre en pantalla los números del 1 al 10"
      ],
      "metadata": {
        "id": "1NZjKz1eAjAX"
      }
    },
    {
      "cell_type": "code",
      "source": [
        "i = 1 # variables de control\n",
        "while i <= 10:\n",
        "    print(i) \n",
        "    i += 1 \n",
        "print(\"Programa terminado\")"
      ],
      "metadata": {
        "id": "lp2WdxMJAtK9"
      },
      "execution_count": null,
      "outputs": []
    },
    {
      "cell_type": "markdown",
      "source": [
        "Ejercicio 2: Desarrollar un programa que permita la carga de 3 valores por teclado y nos muestre posteriormente la suma de los valores ingresados y su promedio."
      ],
      "metadata": {
        "id": "vj12-kwIER18"
      }
    },
    {
      "cell_type": "code",
      "source": [
        "i = 1\n",
        "suma = 0\n",
        "while i <= 3:\n",
        "    valor = int(input(\"Ingrese un valor:\"))\n",
        "    suma = suma + valor\n",
        "    i += 1\n",
        "promedio = suma / 3\n",
        "\n",
        "print(\"La suma de los 3 valores es \",suma)\n",
        "\n",
        "print(\"El promedio es \",promedio)"
      ],
      "metadata": {
        "id": "PgsoN9KeElJM"
      },
      "execution_count": null,
      "outputs": []
    },
    {
      "cell_type": "markdown",
      "source": [
        "# **Ejercicios de práctica:**\n",
        "\n",
        "\n",
        "\n",
        "> Un programa que muestre en pantalla la tabla del 3.\n",
        "\n"
      ],
      "metadata": {
        "id": "RIIYD4j5NUEr"
      }
    },
    {
      "cell_type": "markdown",
      "source": [
        "*Muchas gracias*\n",
        "\n",
        "**[Data Engineering Latam ](https://linkedin.com/company/data-engineering-latam)** la Comunidad más grande y chevere de todas."
      ],
      "metadata": {
        "id": "jukA_xP3Vixl"
      }
    }
  ]
}