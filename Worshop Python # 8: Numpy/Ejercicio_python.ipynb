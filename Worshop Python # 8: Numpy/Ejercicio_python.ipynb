{
  "nbformat": 4,
  "nbformat_minor": 0,
  "metadata": {
    "colab": {
      "provenance": []
    },
    "kernelspec": {
      "name": "python3",
      "display_name": "Python 3"
    },
    "language_info": {
      "name": "python"
    }
  },
  "cells": [
    {
      "cell_type": "markdown",
      "source": [
        "# **Puntos por goles en campeonato**\n",
        "\n",
        "\n"
      ],
      "metadata": {
        "id": "58YITPpzw389"
      }
    },
    {
      "cell_type": "markdown",
      "source": [
        "Cada equipo juega contra todos los demás equipos y los goles anotados en cada encuentro han sido almacenados en una matriz nxn como se indica en la tabla ejemplo:\n"
      ],
      "metadata": {
        "id": "XAMhUNpvxDat"
      }
    },
    {
      "cell_type": "markdown",
      "source": [
        "![foto enunciado.jpeg](data:image/jpeg;base64,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)"
      ],
      "metadata": {
        "id": "tkiWaTplxIEc"
      }
    },
    {
      "cell_type": "markdown",
      "source": [
        "El equipo 1 marco 3 goles al equipo 2,1 gol al equipo 3, etc.\n",
        "\n",
        "El equipo 2 marco 1 gol al equipo 1,3 goles al equipo 3, etc.\n",
        "\n",
        "Lea la matriz y determine cuantos puntos tiene cada equipo. Los puntos asignados son: empate 1, triunfo 3 , derrota 0.\n",
        "\n",
        "Se adjunta la matriz en python para el ejercicio en forma de un arreglo de 5×5:"
      ],
      "metadata": {
        "id": "Jy-xFnBjxqwN"
      }
    },
    {
      "cell_type": "code",
      "source": [
        "import numpy as np"
      ],
      "metadata": {
        "id": "CeU8VYcox_Se"
      },
      "execution_count": null,
      "outputs": []
    },
    {
      "cell_type": "code",
      "source": [
        "goles = np.array(\n",
        "       [[0, 3, 1, 2, 1],\n",
        "        [1, 0, 3, 2, 3],\n",
        "        [0, 2, 0, 1, 1],\n",
        "        [1, 0, 2, 0, 1],\n",
        "        [3, 4, 1, 2, 0]] )\n",
        "#indices son los equipos "
      ],
      "metadata": {
        "id": "pyAOlWiYyFhO"
      },
      "execution_count": null,
      "outputs": []
    },
    {
      "cell_type": "code",
      "source": [
        "tamano = np.shape(goles)#devuelve una tupla con los elementos por eje en este caso los equipos\n",
        "n = tamano[0]#tamano en la filas \n",
        "m = tamano[1]#tamano en las columnas \n",
        "triunfos = np.zeros(shape=(n,m),dtype=int)#se crea un array de ceros del mismo tamano \n",
        "ttriunfos = np.zeros(n,dtype=int)#se crea un arreglo de una dimension de la cantidad de equipos "
      ],
      "metadata": {
        "id": "7lbFuZM8ycVe"
      },
      "execution_count": null,
      "outputs": []
    },
    {
      "cell_type": "code",
      "source": [
        "#calculamos los triunfos\n",
        "i = 0\n",
        "while not(i>=n):#mientras i no sea igual o mayor al tamano de las filas \n",
        "    j = 0\n",
        "    while not(j>=m):#mientras que j no sea igual al tamano de las columnas \n",
        "        if (goles[i,j] > goles[j,i]):#estamos comparando los partidos y llenando nuestra matriz de 0\n",
        "            triunfos[i,j] = 1\n",
        "            triunfos[j,i] = 0\n",
        "        j = j + 1\n",
        "    i = i + 1"
      ],
      "metadata": {
        "id": "ixs263ASylM_"
      },
      "execution_count": null,
      "outputs": []
    },
    {
      "cell_type": "code",
      "source": [
        "#calculamos total de triunfos \n",
        "i = 0\n",
        "while not(i>=n):#mientras i no sea igual o mayor al tamano de las filas \n",
        "    j = 0\n",
        "    while not(j>=m):#mientras que j no sea igual al tamano de las columnas \n",
        "        ttriunfos[i] = ttriunfos[i] + triunfos[i,j]#calcula el total de triunfos por equipo\n",
        "        j = j + 1\n",
        "    i = i + 1"
      ],
      "metadata": {
        "id": "9ldPkXTAy_gf"
      },
      "execution_count": null,
      "outputs": []
    },
    {
      "cell_type": "code",
      "source": [
        "#calculamos empates\n",
        "empates = np.zeros(shape=(n,m),dtype=int)#creamos una matriz de ceros donde llenarermos los empates\n",
        "tempates = np.zeros(n,dtype=int)#calculamos un arreglo de una dimension con la cantidad de equipos \n",
        "i = 0\n",
        "while not(i>=n):#mientras i no sea igual o mayor al tamano de las filas \n",
        "    j = 0\n",
        "    while not(j>=m):#mientras que j no sea igual al tamano de las columnas \n",
        "        if (goles[i,j] == goles[j,i]) and (i!=j):#verificamos  en la matriz de goles si  en un partido jugado tienen el mismo resultado\n",
        "            empates[i,j] = 1#llenan la matriz de empates\n",
        "            empates[j,i] = 1\n",
        "        j = j + 1\n",
        "    i = i + 1"
      ],
      "metadata": {
        "id": "52PKXqcYzC72"
      },
      "execution_count": null,
      "outputs": []
    },
    {
      "cell_type": "code",
      "source": [
        "#calculamos total de empates\n",
        "i = 0\n",
        "while not(i>=n):\n",
        "    j = 0\n",
        "    while not(j>=m):\n",
        "        tempates[i] = tempates[i] + empates[i,j]#calculan el total de empates por equipo \n",
        "        j = j + 1\n",
        "    i = i + 1\n"
      ],
      "metadata": {
        "id": "MruEjtb7zMLV"
      },
      "execution_count": null,
      "outputs": []
    },
    {
      "cell_type": "code",
      "source": [
        "#calculamos las derrotas\n",
        "#como van a tener 4 partidos colocamos la cantidad de equipos menos 1 que seria la cantidad de partidos jugados\n",
        "#le restamos los trienfos y empates obtenidos y obtenemos el total de derrotas \n",
        "derrotas = (n-1)*np.ones(n,dtype=int)\n",
        "derrotas = derrotas - ttriunfos - tempates"
      ],
      "metadata": {
        "id": "wI-5MVTrzSV9"
      },
      "execution_count": null,
      "outputs": []
    },
    {
      "cell_type": "code",
      "source": [
        "#calculamos puntos totales\n",
        "puntos_triunfos = ttriunfos*3\n",
        "puntos_empates  = tempates*1\n",
        "puntos = puntos_triunfos+puntos_empates \n"
      ],
      "metadata": {
        "id": "VGBKE_b5zZdG"
      },
      "execution_count": null,
      "outputs": []
    },
    {
      "cell_type": "code",
      "source": [
        "print(triunfos)\n",
        "print(' triunfos por equipo: ')\n",
        "print(ttriunfos)\n",
        "print(' empates por equipo:')\n",
        "print(tempates)\n",
        "print(' derrotas por equipo:')\n",
        "print(derrotas)\n",
        "print('puntos por equipo:')\n",
        "print(puntos)"
      ],
      "metadata": {
        "colab": {
          "base_uri": "https://localhost:8080/"
        },
        "id": "L5EEix2hzc4I",
        "outputId": "8b968d02-8517-43aa-99a6-0bed90402a6f"
      },
      "execution_count": null,
      "outputs": [
        {
          "output_type": "stream",
          "name": "stdout",
          "text": [
            "[[0 1 1 1 0]\n",
            " [0 0 1 1 0]\n",
            " [0 0 0 0 0]\n",
            " [0 0 1 0 0]\n",
            " [1 1 0 1 0]]\n",
            " triunfos por equipo: \n",
            "[3 2 0 1 3]\n",
            " empates por equipo:\n",
            "[0 0 1 0 1]\n",
            " derrotas por equipo:\n",
            "[1 2 3 3 0]\n",
            "puntos por equipo:\n",
            "[ 9  6  1  3 10]\n"
          ]
        }
      ]
    },
    {
      "cell_type": "markdown",
      "source": [
        "# **crear una funcion que dada un array de una dimension ,hacer un resumen estadistico de las edades ,verificar que el array sea de una dimension caso contrario entregar error.**"
      ],
      "metadata": {
        "id": "lvPD-vOYfcu0"
      }
    },
    {
      "cell_type": "code",
      "source": [
        "def get_array_info(input_array):\n",
        "    if input_array.ndim > 1:\n",
        "        print(\"ERROR, EL ARRAY NO DEBE TENER MAS DE UNA DIMENSION \")\n",
        "    else :\n",
        "        print(f\"cantidad de elementos del array {input_array.shape[0]}\")\n",
        "        print(f\"tipo de dato de los elementos del array {input_array.dtype}\")\n",
        "        print(f\"Valor minimo: {input_array.min()}\")\n",
        "        print(f\"Valor maximo: {input_array.max()}\")\n",
        "        print(f\"valor promedio : {input_array.mean()}\")\n",
        "        print(f\"suma de los  valores : {input_array.sum()}\")\n"
      ],
      "metadata": {
        "id": "186B9nsufnRt"
      },
      "execution_count": null,
      "outputs": []
    },
    {
      "cell_type": "code",
      "source": [
        "new_array= np.array([16,25,19,58,22])\n",
        "get_array_info(new_array)"
      ],
      "metadata": {
        "id": "DX-nzh4Nfy1q"
      },
      "execution_count": null,
      "outputs": []
    },
    {
      "cell_type": "markdown",
      "source": [
        "# **dado un array de dos dimensiones, el valor total de las filas o valor total de las columnas**"
      ],
      "metadata": {
        "id": "pFufHWlef2bb"
      }
    },
    {
      "cell_type": "code",
      "source": [
        "def array_sum(input_array):\n",
        "    if input_array.ndim != 2:\n",
        "        print(\"ERROR: El Array debe tener 2 Dimensiones.\")\n",
        "    else:\n",
        "        # Variables para almacenar los índices:\n",
        "        row_index = 0\n",
        "        col_index = 0\n",
        "        # Arrays con las sumas de las filas y las columnas:\n",
        "        row_sum = input_array.sum(axis=1)\n",
        "        col_sum = input_array.sum(axis=0)\n",
        "        # Itero el array de suma de filas, para imprimir los valores:\n",
        "        \n",
        "        for value in row_sum:\n",
        "            print(f\"Total Fila {row_index}: {value}\")\n",
        "            row_index += 1\n",
        "        # Itero el array de suma de columnas, para imprimir los valores:\n",
        "        for value in col_sum:\n",
        "            print(f\"Total Columna {col_index}: {value}\")\n",
        "            col_index += 1"
      ],
      "metadata": {
        "id": "Sc-dLasVgTFK"
      },
      "execution_count": null,
      "outputs": []
    },
    {
      "cell_type": "code",
      "source": [
        "my_array_2D = np.array([[1, 2, 3],\n",
        "                           [4, 5, 6],\n",
        "                           [7, 8, 9]])\n",
        "array_sum(my_array_2D)"
      ],
      "metadata": {
        "id": "-Eg3JoosgVAJ"
      },
      "execution_count": null,
      "outputs": []
    },
    {
      "cell_type": "code",
      "source": [
        "# np.all()\n",
        "# Retorna True si todos los elementos del arreglo cumplen con la condición.\n",
        "# np.any()\n",
        "# Retorna True si almenos uno de los elementos del arreglo cumple con la condición.\n",
        "# np.where()\n",
        "# Retorna un arreglo con los índices de los elementos que cumplen con la condición."
      ],
      "metadata": {
        "id": "Aduw1xaDgVFq"
      },
      "execution_count": null,
      "outputs": []
    },
    {
      "cell_type": "code",
      "source": [
        "# new_array=np.array([[12,56,15,45,56],[20,506,25,45,65]])\n",
        "# print(new_array)\n",
        "# print(np.all(new_array==12))\n",
        "# print(np.any(new_array<20))\n",
        "# fila,columna=np.where(new_array>50)\n",
        "# print(fila,columna)\n",
        "# dic_posiciones={}\n",
        "# contador=0\n",
        "# new_data=list(zip(fila,columna))\n",
        "# for values in new_data:\n",
        "#     dic_posiciones[f\"posicion {contador}\"]=new_array[values]\n",
        "#     contador+=1\n",
        "# print(dic_posiciones)\n",
        "# def metricaPais(ddatos,dpaises):\n",
        "#     d_PromediosMetricasPais = {}\n",
        "#     for pais, ciudades in dpaises.items():\n",
        "\n",
        "# \t\tfor datos,valores in ddatos.items():\t\t\t\t\t\t\n",
        "# \t\t\tif datos[0] in ciudades :\n",
        "# \t\t\t\td_PromediosMetricasPais[(pais,datos[1])]+=valores "
      ],
      "metadata": {
        "id": "Onyfv6s1gcnr"
      },
      "execution_count": null,
      "outputs": []
    },
    {
      "cell_type": "markdown",
      "source": [
        "# **Ejericios diapositivas**"
      ],
      "metadata": {
        "id": "FzU5kQwWuSz8"
      }
    },
    {
      "cell_type": "code",
      "source": [
        "import numpy as np \n",
        "lista = [1,2,3,4,5,6,7,8,9]\n",
        "a = np.array(lista, float)\n",
        "b = np.array(lista, int)\n",
        "c = a.reshape(3,3)\n",
        "tam = c.size\n",
        "filas = c.shape[0]\n",
        "cols = c.shape[1]\n",
        "rank = c.ndim \n",
        "tipo = type(c)\n"
      ],
      "metadata": {
        "id": "B67VP82Jubpb"
      },
      "execution_count": null,
      "outputs": []
    },
    {
      "cell_type": "code",
      "source": [
        "print(tam )\n",
        "print(filas )\n",
        "print(cols )\n",
        "print(rank )\n",
        "print(tipo )\n"
      ],
      "metadata": {
        "id": "Cy64lo6FvBEB"
      },
      "execution_count": null,
      "outputs": []
    },
    {
      "cell_type": "code",
      "source": [
        "m = 2\n",
        "n = 3\n",
        "solo_unos = np.ones((m,n))\n",
        "matriz_nula = np.zeros((m,n), dtype=int)\n",
        "pasos = np.arange(5)\n",
        "nuevo = np.arange(0,10,2)\n",
        "nuevo_2 = np.arange(0,10,.2)\n",
        "nuevo_2.size\n"
      ],
      "metadata": {
        "id": "YxSfYZp-vUpl"
      },
      "execution_count": null,
      "outputs": []
    },
    {
      "cell_type": "code",
      "source": [
        "print(nuevo)\n",
        "print(nuevo_2)"
      ],
      "metadata": {
        "id": "YdMLOBWFvuqL"
      },
      "execution_count": null,
      "outputs": []
    },
    {
      "cell_type": "code",
      "source": [
        "#matrices\n",
        "np_2d=np.array([[  1.73,   1.68,   1.71,   1.89,   1.79],[ 65.4 ,  59.2 ,  63.6 ,  88.4 ,  68.7 ]])\n"
      ],
      "metadata": {
        "id": "vU8_zFH4wGXz"
      },
      "execution_count": null,
      "outputs": []
    },
    {
      "cell_type": "code",
      "source": [
        "np_2d[1,:]"
      ],
      "metadata": {
        "colab": {
          "base_uri": "https://localhost:8080/"
        },
        "id": "5748g0EOwW7k",
        "outputId": "a58792bc-b9f5-426b-dfb2-b02003f4de07"
      },
      "execution_count": null,
      "outputs": [
        {
          "output_type": "execute_result",
          "data": {
            "text/plain": [
              "array([65.4, 59.2, 63.6, 88.4, 68.7])"
            ]
          },
          "metadata": {},
          "execution_count": 15
        }
      ]
    },
    {
      "cell_type": "code",
      "source": [
        "np_2d[:,3]"
      ],
      "metadata": {
        "colab": {
          "base_uri": "https://localhost:8080/"
        },
        "id": "yQzRor_NwnD0",
        "outputId": "9fa44b3e-21df-4cef-9578-08db05397878"
      },
      "execution_count": null,
      "outputs": [
        {
          "output_type": "execute_result",
          "data": {
            "text/plain": [
              "array([ 1.89, 88.4 ])"
            ]
          },
          "metadata": {},
          "execution_count": 16
        }
      ]
    },
    {
      "cell_type": "code",
      "source": [
        "np_2d[:,1:4]"
      ],
      "metadata": {
        "colab": {
          "base_uri": "https://localhost:8080/"
        },
        "id": "ge-Ows0Qw4Cz",
        "outputId": "f5ecc951-8659-4dd4-cb62-e5e699133306"
      },
      "execution_count": null,
      "outputs": [
        {
          "output_type": "execute_result",
          "data": {
            "text/plain": [
              "array([[ 1.68,  1.71,  1.89],\n",
              "       [59.2 , 63.6 , 88.4 ]])"
            ]
          },
          "metadata": {},
          "execution_count": 17
        }
      ]
    },
    {
      "cell_type": "code",
      "source": [
        "np_2d>3"
      ],
      "metadata": {
        "id": "5CGOBOVAxc6t",
        "outputId": "279b5dce-9c36-46fc-c87f-5bfff1569610",
        "colab": {
          "base_uri": "https://localhost:8080/"
        }
      },
      "execution_count": null,
      "outputs": [
        {
          "output_type": "execute_result",
          "data": {
            "text/plain": [
              "array([[False, False, False, False, False],\n",
              "       [ True,  True,  True,  True,  True]])"
            ]
          },
          "metadata": {},
          "execution_count": 18
        }
      ]
    }
  ]
}