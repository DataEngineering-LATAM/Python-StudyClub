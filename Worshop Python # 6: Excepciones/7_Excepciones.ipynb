{
  "nbformat": 4,
  "nbformat_minor": 0,
  "metadata": {
    "colab": {
      "provenance": [],
      "collapsed_sections": []
    },
    "kernelspec": {
      "name": "python3",
      "display_name": "Python 3"
    },
    "language_info": {
      "name": "python"
    }
  },
  "cells": [
    {
      "cell_type": "markdown",
      "source": [
        "# **Aprendiendo Python 🐍 con Data Engineering Latam**\n",
        "\n",
        "> By: [Erick Huanca](https://www.linkedin.com/in/erick-huanca/)"
      ],
      "metadata": {
        "id": "IromZbIgb6I2"
      }
    },
    {
      "cell_type": "markdown",
      "source": [
        "# **Excepciones**\n",
        "\n",
        "**¿Qué son las excepciones?** \n",
        "\n",
        "Las excepciones son errores detectados por Python durante la ejecución del programa.\n",
        "\n"
      ],
      "metadata": {
        "id": "Iyjkc6pyd5dy"
      }
    },
    {
      "cell_type": "markdown",
      "source": [
        "### **Ejemplo 1: Imprimir division entre 0 (Cero).**"
      ],
      "metadata": {
        "id": "4835iPjrq58_"
      }
    },
    {
      "cell_type": "code",
      "source": [
        "def division(a, b):\n",
        "  try:\n",
        "    return a/b\n",
        "  except ZeroDivisionError:\n",
        "    return \"Error de division entre cero\"\n",
        "\n",
        "while True:\n",
        "  try:\n",
        "    val1 = (int(input(\"Introduce 1er valor: \")))\n",
        "    val2 = (int(input(\"Introduce 2do valor: \")))\n",
        "    break\n",
        "    \n",
        "  except ValueError:\n",
        "    print(\"Los Valores no son correctos!, vuelva a intentar.\")\n",
        "\n",
        "print(\"-------------------------------\")\n",
        "\n",
        "print(\"Resultado division: \", division(val1, val2))\n",
        "\n",
        "print(\"-------------------------------\")\n",
        "\n",
        "print (\"Operacion finalizada!\")"
      ],
      "metadata": {
        "colab": {
          "base_uri": "https://localhost:8080/"
        },
        "id": "ruPR-tKqrztf",
        "outputId": "fc3a80d0-ee36-443c-8b07-b2036130e0e0"
      },
      "execution_count": 26,
      "outputs": [
        {
          "output_type": "stream",
          "name": "stdout",
          "text": [
            "Introduce 1er valor: 4\n",
            "Introduce 2do valor: 4\n",
            "-------------------------------\n",
            "Resultado division:  1.0\n",
            "-------------------------------\n",
            "Operacion finalizada!\n"
          ]
        }
      ]
    },
    {
      "cell_type": "markdown",
      "source": [
        "### **Reto 1: Imprimir las operaciones matemáticas de multiplicación, división y módulo.**"
      ],
      "metadata": {
        "id": "5I0TqQahr99V"
      }
    },
    {
      "cell_type": "code",
      "source": [
        "def multiplicacion(a, b):\n",
        "  return a*b\n",
        " \n",
        "def division(a, b):\n",
        "  try:\n",
        "    return a/b\n",
        "  except ZeroDivisionError:\n",
        "    return \"Error de division entre cero\"\n",
        "\n",
        "def modulo(a, b):\n",
        "  try:\n",
        "    return a%b\n",
        "  except ZeroDivisionError:\n",
        "    return \"Error de division entre cero\"\n",
        "\n",
        "while True:\n",
        "  try:\n",
        "    val1 = (int(input(\"Introduce 1er valor: \")))\n",
        "    val2 = (int(input(\"Introduce 2do valor: \")))\n",
        "    break\n",
        "    \n",
        "  except ValueError:\n",
        "    print(\"Los Valores no son correctos!, vuelva a intentar.\")\n",
        "\n",
        "print(\"-------------------------------\")\n",
        "print(\"Resultado multiplicacion: \",multiplicacion(val1, val2))\n",
        "print(\"Resultado division: \", division(val1, val2))\n",
        "print(\"Resultado modulo: \", modulo(val1, val2))\n",
        "print(\"-------------------------------\")\n",
        "\n",
        "print (\"Operacion finalizada!\")"
      ],
      "metadata": {
        "colab": {
          "base_uri": "https://localhost:8080/"
        },
        "id": "gOSJmOixe0Rx",
        "outputId": "6e91f465-6a6a-4de2-9bf8-496ab6390535"
      },
      "execution_count": 33,
      "outputs": [
        {
          "output_type": "stream",
          "name": "stdout",
          "text": [
            "Introduce 1er valor: 8\n",
            "Introduce 2do valor: 0\n",
            "-------------------------------\n",
            "Resultado multiplicacion:  0\n",
            "Resultado division:  Error de division entre cero\n",
            "Resultado modulo:  Error de division entre cero\n",
            "-------------------------------\n",
            "Operacion finalizada!\n"
          ]
        }
      ]
    },
    {
      "cell_type": "markdown",
      "source": [
        "### **Ejemplo 2: Imprimir la division entre 0 (cero) usando \"else, finally y raise\"** "
      ],
      "metadata": {
        "id": "YibrKfdkfLVB"
      }
    },
    {
      "cell_type": "code",
      "source": [
        "def division(a, b):\n",
        "  try:\n",
        "    c = a/b\n",
        "    if c < 0:\n",
        "      raise ValueError (\"Lo sentimos, los valores introducidos no pueden ser menores que 0!\")\n",
        "\n",
        "  except ZeroDivisionError:\n",
        "    return \"Error de division entre cero\"\n",
        "\n",
        "  except ValueError as ve:\n",
        "    print(ve)\n",
        "\n",
        "  else:\n",
        "    return c\n",
        "  finally:\n",
        "    print(\"Termino la funsion division!\")\n",
        "\n",
        "while True:\n",
        "  try:\n",
        "    val1 = (int(input(\"Introduce 1er valor: \")))\n",
        "    val2 = (int(input(\"Introduce 2do valor: \")))\n",
        "    break\n",
        "    \n",
        "  except ValueError:\n",
        "    print(\"Los Valores no son correctos!, vuelva a intentar.\")\n",
        "\n",
        "print(\"-------------------------------\")\n",
        "print(\"Resultado division: \", division(val1, val2))\n",
        "print(\"-------------------------------\")\n",
        "\n",
        "print (\"Operacion finalizada!\")"
      ],
      "metadata": {
        "colab": {
          "base_uri": "https://localhost:8080/"
        },
        "id": "zGV2zo_LfPDB",
        "outputId": "5cbcf6c9-f9d0-4d72-d76d-f04ee95e32ba"
      },
      "execution_count": 32,
      "outputs": [
        {
          "output_type": "stream",
          "name": "stdout",
          "text": [
            "Introduce 1er valor: 8\n",
            "Introduce 2do valor: -2\n",
            "-------------------------------\n",
            "Lo sentimos, los valores introducidos no pueden ser menores que 0!\n",
            "Termino la funsion division!\n",
            "Resultado division:  None\n",
            "-------------------------------\n",
            "Operacion finalizada!\n"
          ]
        }
      ]
    },
    {
      "cell_type": "markdown",
      "source": [
        "### **Reto 2: Crear una función que calcule el índice de masa corporal (IMC) que mide el contenido de grasa corporal en relación a la estatura y el peso. La función debe recibir como parametro de entrada la altura y el peso y hacer el cálculo\"** "
      ],
      "metadata": {
        "id": "Jynk0w5ilFOi"
      }
    },
    {
      "cell_type": "code",
      "source": [
        "def imc(altura, peso):\n",
        "  try:\n",
        "    bmi = peso/altura**2\n",
        "    if peso>500 or altura>220:\n",
        "      raise ValueError (\"Valores fuera de rango\")\n",
        "  except ZeroDivisionError:\n",
        "    print(\"altura debe ser diferente de cero\")\n",
        "  except TypeError:\n",
        "    print('Altura y peso solo acepta valores numéricos')\n",
        "  except ValueError as ve:\n",
        "    print(ve)\n",
        "  else:\n",
        "      return bmi\n",
        "def evaluacion(mci):\n",
        "  if mci < 18.5 :\n",
        "    print('La persona está baja de peso')\n",
        "  elif mci >= 25:\n",
        "    print('La persona presenta sobrepeso')\n",
        "  elif mci >=18.5 and mci <25:\n",
        "    print('La persona esta con peso normal')\n",
        "  else:\n",
        "    print('No hay suficiente información')\n",
        "\n",
        "def main():\n",
        "    try:\n",
        "      peso = float(input('Introduce el peso de la persona (kgs.): '))\n",
        "      altura = float(input('Introduce la altura de la persona (mts.): '))\n",
        "    except TypeError:\n",
        "      print('Introducir valores numerico')\n",
        "    except ValueError:\n",
        "      print('Introducir valores numéricos') \n",
        "      \n",
        "    try:\n",
        "      valorIMC = imc(altura,peso)\n",
        "      print(\"El IMC de la persona es: \", round(valorIMC))\n",
        "      evaluacion(valorIMC)\n",
        "    except UnboundLocalError:\n",
        "      pass  \n",
        "    except TypeError:\n",
        "      pass\n",
        "\n",
        "main()"
      ],
      "metadata": {
        "colab": {
          "base_uri": "https://localhost:8080/"
        },
        "id": "OD7hAXSm04Yj",
        "outputId": "2446fdc0-2c21-4cc9-ce56-07ca50d3861b"
      },
      "execution_count": 19,
      "outputs": [
        {
          "output_type": "stream",
          "name": "stdout",
          "text": [
            "Introduce el peso de la persona (kgs.): -60\n",
            "Introduce la altura de la persona (mts.): -1.60\n",
            "El IMC de la persona es:  -23\n",
            "La persona está baja de peso\n"
          ]
        }
      ]
    }
  ]
}