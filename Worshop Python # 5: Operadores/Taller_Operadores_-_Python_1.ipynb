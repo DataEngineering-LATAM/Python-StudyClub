{
 "cells": [
  {
   "cell_type": "markdown",
   "id": "0a43afe9-fc81-47cc-932d-33fad5f71207",
   "metadata": {},
   "source": [
    "Taller Introduccion Python - Operadores"
   ]
  },
  {
   "cell_type": "markdown",
   "id": "3e851977-2219-413e-bf6a-3f2b906f7faf",
   "metadata": {},
   "source": [
    "Entrada y salida de datos"
   ]
  },
  {
   "cell_type": "code",
   "execution_count": 12,
   "id": "c481d900-f2fe-4dd2-b332-b810e0b7d45e",
   "metadata": {},
   "outputs": [
    {
     "name": "stdout",
     "output_type": "stream",
     "text": [
      "Hola 'Data Engineering Latam' hoy les presentamos el taller Python: Operadores\n",
      "Hola 'Data Engineering Latam' hoy les presentamos el taller Python: Operadores\n",
      "Hola 'Data Engineering Latam' hoy les presentamos el taller Python: Operadores\n"
     ]
    }
   ],
   "source": [
    "comunidad = \"'Data Engineering Latam'\"\n",
    "taller = \"Python: Operadores\"\n",
    "\n",
    "print(\"Hola\", comunidad, \"hoy les presentamos el taller\", taller)\n",
    "print(f\"Hola {comunidad} hoy les presentamos el taller {taller}\")\n",
    "print(\"Hola {} hoy les presentamos el taller {}\".format(comunidad, taller))"
   ]
  },
  {
   "cell_type": "code",
   "execution_count": 17,
   "id": "f65a1355-d269-4a2a-bd8e-a564f87abee8",
   "metadata": {},
   "outputs": [
    {
     "name": "stdin",
     "output_type": "stream",
     "text": [
      " Tulio\n",
      " 30\n"
     ]
    },
    {
     "name": "stdout",
     "output_type": "stream",
     "text": [
      "130\n"
     ]
    }
   ],
   "source": [
    "nombre = input()\n",
    "edad = int(input())\n",
    "print(edad + 100)"
   ]
  },
  {
   "cell_type": "markdown",
   "id": "8cd43c8f-70ee-43b7-b097-c73d41b11115",
   "metadata": {},
   "source": [
    "Operadores Aritmeticos"
   ]
  },
  {
   "cell_type": "markdown",
   "id": "9b381319-a805-413a-abab-094c337c326e",
   "metadata": {},
   "source": [
    "SUma (+)"
   ]
  },
  {
   "cell_type": "code",
   "execution_count": 3,
   "id": "3b2ade4b-426b-4640-a383-d173059764b9",
   "metadata": {},
   "outputs": [
    {
     "data": {
      "text/plain": [
       "27"
      ]
     },
     "execution_count": 3,
     "metadata": {},
     "output_type": "execute_result"
    }
   ],
   "source": [
    "22 + 5 "
   ]
  },
  {
   "cell_type": "code",
   "execution_count": 9,
   "id": "6f1335b9-7484-4b80-a2ac-52a378364806",
   "metadata": {},
   "outputs": [
    {
     "name": "stdout",
     "output_type": "stream",
     "text": [
      "150\n"
     ]
    }
   ],
   "source": [
    "entero_1 = 100 \n",
    "entero_2 = 50\n",
    "flotante = 5.5\n",
    "suma = entero_1 + entero_2\n",
    "print (suma) "
   ]
  },
  {
   "cell_type": "code",
   "execution_count": 13,
   "id": "9885824f-0ab1-4334-8045-b124d684db4f",
   "metadata": {},
   "outputs": [
    {
     "name": "stdout",
     "output_type": "stream",
     "text": [
      "105.5\n"
     ]
    }
   ],
   "source": [
    "suma_2 = entero_1 + flotante \n",
    "print(suma_2)"
   ]
  },
  {
   "cell_type": "code",
   "execution_count": 14,
   "id": "560914b0-779f-4988-b1b4-6ef756aa77aa",
   "metadata": {},
   "outputs": [
    {
     "name": "stdout",
     "output_type": "stream",
     "text": [
      " La suma de 100 + 50 es 150\n"
     ]
    }
   ],
   "source": [
    "print(f' La suma de {entero_1} + {entero_2} es {suma}')"
   ]
  },
  {
   "cell_type": "code",
   "execution_count": 15,
   "id": "cdbe1f38-658b-43ae-a78b-818ddf7c94f7",
   "metadata": {},
   "outputs": [
    {
     "name": "stdout",
     "output_type": "stream",
     "text": [
      "La suma de 100 + 5.5 es 105.5\n"
     ]
    }
   ],
   "source": [
    "print(f'La suma de {entero_1} + {flotante} es {suma_2}')"
   ]
  },
  {
   "cell_type": "markdown",
   "id": "10258f68-965b-41c7-9097-617b94490254",
   "metadata": {},
   "source": [
    "Resta (-)"
   ]
  },
  {
   "cell_type": "code",
   "execution_count": 17,
   "id": "3e4cf033-d14a-4b27-84c6-c826af4162c0",
   "metadata": {},
   "outputs": [
    {
     "name": "stdout",
     "output_type": "stream",
     "text": [
      "50\n"
     ]
    }
   ],
   "source": [
    "resta = entero_1 - entero_2 \n",
    "print(resta)"
   ]
  },
  {
   "cell_type": "markdown",
   "id": "3ef0c0d5-0523-4608-ac83-81ec87d5fae2",
   "metadata": {},
   "source": [
    "Multiplicacion (*)"
   ]
  },
  {
   "cell_type": "code",
   "execution_count": 18,
   "id": "59b045a0-fdb3-4e0a-bea1-12df97850041",
   "metadata": {},
   "outputs": [
    {
     "name": "stdout",
     "output_type": "stream",
     "text": [
      "550.0\n"
     ]
    }
   ],
   "source": [
    "multiplicacion = entero_1 * flotante\n",
    "print (multiplicacion)"
   ]
  },
  {
   "cell_type": "markdown",
   "id": "8728d013-baf5-4091-b672-a0a28c052044",
   "metadata": {},
   "source": [
    "Division (/)"
   ]
  },
  {
   "cell_type": "code",
   "execution_count": 21,
   "id": "42e21f4e-95b5-41d3-be5e-cb26fc61d394",
   "metadata": {},
   "outputs": [
    {
     "name": "stdout",
     "output_type": "stream",
     "text": [
      "2.0\n"
     ]
    }
   ],
   "source": [
    "Division = entero_1 / entero_2\n",
    "print(Division)"
   ]
  },
  {
   "cell_type": "markdown",
   "id": "ab3ee2b7-0335-4af9-8496-26ab747fbf68",
   "metadata": {},
   "source": [
    "Divion entera a la baja (//)"
   ]
  },
  {
   "cell_type": "code",
   "execution_count": 162,
   "id": "24a262e1-b256-45a2-86ae-35e59fda0682",
   "metadata": {},
   "outputs": [
    {
     "name": "stdout",
     "output_type": "stream",
     "text": [
      "4\n"
     ]
    }
   ],
   "source": [
    "print(9//2)"
   ]
  },
  {
   "cell_type": "markdown",
   "id": "0676e59b-9794-4b76-b34c-e96096b3de51",
   "metadata": {},
   "source": [
    "Residuo (%)"
   ]
  },
  {
   "cell_type": "code",
   "execution_count": 22,
   "id": "285d98af-8237-42fd-9cc0-c35e018627ae",
   "metadata": {},
   "outputs": [
    {
     "name": "stdout",
     "output_type": "stream",
     "text": [
      "0\n",
      "2\n"
     ]
    }
   ],
   "source": [
    "print ( 30 % 6)\n",
    "print (20 % 3 )"
   ]
  },
  {
   "cell_type": "markdown",
   "id": "b12589ce-9fac-46d5-a493-82f1d78f3d69",
   "metadata": {},
   "source": [
    "Exponente (**)"
   ]
  },
  {
   "cell_type": "code",
   "execution_count": 24,
   "id": "10501e1b-cefb-43f7-ad00-cbded8540d1b",
   "metadata": {},
   "outputs": [
    {
     "name": "stdout",
     "output_type": "stream",
     "text": [
      "8\n",
      "27\n"
     ]
    }
   ],
   "source": [
    "print ( 2 ** 3 )\n",
    "print (3 ** 3)"
   ]
  },
  {
   "cell_type": "markdown",
   "id": "2db40d10-5a5b-47e6-bc83-f54890c77f34",
   "metadata": {},
   "source": [
    "Parentesis ()"
   ]
  },
  {
   "cell_type": "markdown",
   "id": "7f7e65cc-0c86-4e57-b567-0450d7c9202b",
   "metadata": {},
   "source": [
    "Orden/Prioridad de Operadores aritmeticos - PEMDAS\n",
    "- Parentesis, exponentes, multiplicacion-division, adicion-resta"
   ]
  },
  {
   "cell_type": "code",
   "execution_count": 26,
   "id": "b04ed73b-93cb-4a1a-9ea6-0219f190ab46",
   "metadata": {},
   "outputs": [
    {
     "name": "stdout",
     "output_type": "stream",
     "text": [
      "106.0\n",
      "150.0\n"
     ]
    }
   ],
   "source": [
    "Operacion1 = 100 + 50 / 5 - 4\n",
    "Operacion2 = (100 + 50 / (5 - 4))\n",
    "print (Operacion1) \n",
    "print (Operacion2)"
   ]
  },
  {
   "cell_type": "markdown",
   "id": "f37f9e0c-31d9-4ca1-ac5b-838c58c4dd6d",
   "metadata": {},
   "source": [
    "Explicacion: Operacion1\n",
    "100 + 10 - 4\n",
    "106\n",
    "Operacion2\n",
    "100 + 50 / 1\n",
    "100 + 50\n",
    "150"
   ]
  },
  {
   "cell_type": "markdown",
   "id": "bff1c9b8-bb43-4738-9df2-4a1e53d05266",
   "metadata": {},
   "source": [
    "Operadores de Asignacion: Asignar valores a una variable"
   ]
  },
  {
   "cell_type": "code",
   "execution_count": 151,
   "id": "6a726a7d-aa66-4a5e-87c3-a12ef0aaed67",
   "metadata": {},
   "outputs": [
    {
     "name": "stdout",
     "output_type": "stream",
     "text": [
      "10\n",
      "numero\n",
      "numero_2\n",
      "<class 'int'>\n"
     ]
    }
   ],
   "source": [
    "numero = 10\n",
    "print(numero)\n",
    "print(\"numero\")\n",
    "print('numero_2')\n",
    "print(type(numero))"
   ]
  },
  {
   "cell_type": "markdown",
   "id": "8c807f24-6746-4fce-afed-d1492a96300c",
   "metadata": {},
   "source": [
    "Asignacion ( = )"
   ]
  },
  {
   "cell_type": "code",
   "execution_count": 10,
   "id": "0b0c02d5-cb93-4363-a64f-801318372383",
   "metadata": {},
   "outputs": [],
   "source": [
    "comunidad = \"Data Engineering Latam\"\n",
    "comunidad_abr = 'DEL'\n",
    "numero = 100 "
   ]
  },
  {
   "cell_type": "code",
   "execution_count": 61,
   "id": "245b11a5-f449-4299-9c7c-bcc1b3300836",
   "metadata": {},
   "outputs": [
    {
     "name": "stdout",
     "output_type": "stream",
     "text": [
      "Data Engineering Latam\n",
      "DEL\n",
      "100\n"
     ]
    }
   ],
   "source": [
    "print (comunidad)\n",
    "print (comunidad_abr)\n",
    "print (numero)"
   ]
  },
  {
   "cell_type": "code",
   "execution_count": 55,
   "id": "804d5da4-ac96-4f0b-b5d7-ce13faf5ca47",
   "metadata": {},
   "outputs": [
    {
     "name": "stdout",
     "output_type": "stream",
     "text": [
      "150\n"
     ]
    }
   ],
   "source": [
    "suma = numero + 50\n",
    "print(suma) "
   ]
  },
  {
   "cell_type": "markdown",
   "id": "91c52565-c96e-4abb-8200-704428637714",
   "metadata": {},
   "source": [
    "Suma en Asignacion (+=)"
   ]
  },
  {
   "cell_type": "code",
   "execution_count": 11,
   "id": "bd88e253-a05e-4270-8456-cde9d03e5704",
   "metadata": {},
   "outputs": [
    {
     "name": "stdout",
     "output_type": "stream",
     "text": [
      "150\n"
     ]
    }
   ],
   "source": [
    "#numero = numero + 50\n",
    "numero += 50\n",
    "print(numero)"
   ]
  },
  {
   "cell_type": "markdown",
   "id": "b28f1201-212d-47a0-b29a-4a8618cab4d6",
   "metadata": {},
   "source": [
    "Resta en Asignacion (-=)"
   ]
  },
  {
   "cell_type": "code",
   "execution_count": 86,
   "id": "32f0fac2-f263-47e4-b08a-fa274b9ee9fd",
   "metadata": {},
   "outputs": [
    {
     "name": "stdout",
     "output_type": "stream",
     "text": [
      "70\n"
     ]
    }
   ],
   "source": [
    "numero_2 = 100\n",
    "numero_2 -=30\n",
    "print(numero_2)"
   ]
  },
  {
   "cell_type": "markdown",
   "id": "fd396f26-98b2-4ce4-bf6f-be3cd57bf8e2",
   "metadata": {},
   "source": [
    "Multiplicacion en Asignacion (*=)"
   ]
  },
  {
   "cell_type": "code",
   "execution_count": 88,
   "id": "3c1bb4a6-47f0-4f9f-b24c-0738d1855323",
   "metadata": {},
   "outputs": [
    {
     "name": "stdout",
     "output_type": "stream",
     "text": [
      "500\n"
     ]
    }
   ],
   "source": [
    "numero_3 = 100 \n",
    "numero_3 *= 5\n",
    "print(numero_3)"
   ]
  },
  {
   "cell_type": "markdown",
   "id": "3677a129-bded-4329-aa5e-ecfdd8a3c20e",
   "metadata": {},
   "source": [
    "Division en Asignacion (/=)"
   ]
  },
  {
   "cell_type": "code",
   "execution_count": 89,
   "id": "cafa692f-30b9-457a-a500-fe2799d9c09d",
   "metadata": {},
   "outputs": [
    {
     "name": "stdout",
     "output_type": "stream",
     "text": [
      "25.0\n"
     ]
    }
   ],
   "source": [
    "numero_4 = 100 \n",
    "numero_4 /= 4\n",
    "print(numero_4)"
   ]
  },
  {
   "cell_type": "markdown",
   "id": "f1eb5abd-8600-4cd9-8a19-e3f5a0e5ad6e",
   "metadata": {},
   "source": [
    "Operadores de comparacion"
   ]
  },
  {
   "cell_type": "code",
   "execution_count": 91,
   "id": "43cadb43-019c-459c-8ee4-58fd3b083c4b",
   "metadata": {},
   "outputs": [],
   "source": [
    "numero_1 = 100\n",
    "numero_2 = 20\n",
    "numero_3 = 5"
   ]
  },
  {
   "cell_type": "markdown",
   "id": "60da74c8-d7b6-4110-bb3b-49dab05b2117",
   "metadata": {},
   "source": [
    "Mayor que (>)"
   ]
  },
  {
   "cell_type": "code",
   "execution_count": 93,
   "id": "d0c18ffb-324f-41cb-beb5-78fa33d4099d",
   "metadata": {},
   "outputs": [
    {
     "name": "stdout",
     "output_type": "stream",
     "text": [
      "True\n",
      "False\n"
     ]
    }
   ],
   "source": [
    "print(numero_1 > numero_2 ) # 100 > 50\n",
    "print(numero_1 < numero_2 ) # 100 < 50 "
   ]
  },
  {
   "cell_type": "markdown",
   "id": "db9ea456-a8de-44e3-ac61-78579584e686",
   "metadata": {},
   "source": [
    "Mayor o igual que (>=)"
   ]
  },
  {
   "cell_type": "code",
   "execution_count": 106,
   "id": "ecad0461-ccd3-42d4-97c5-9ede35c436f6",
   "metadata": {},
   "outputs": [
    {
     "name": "stdout",
     "output_type": "stream",
     "text": [
      "True\n",
      "False\n",
      "True\n"
     ]
    }
   ],
   "source": [
    "print(numero_1 >= numero_2)       # 100 >= 50\n",
    "print(numero_1 <= numero_2)       # 100 <= 50 \n",
    "print(numero_1 >= (numero_2 +50)) # 100 >= 50 + 50"
   ]
  },
  {
   "cell_type": "markdown",
   "id": "a5e15736-08d8-4982-ab40-e9e5ee69c24b",
   "metadata": {},
   "source": [
    "Igualdad es (==)"
   ]
  },
  {
   "cell_type": "markdown",
   "id": "1cb1a50f-7cd3-409f-99f9-577272289d82",
   "metadata": {},
   "source": [
    "Asignacion (=)"
   ]
  },
  {
   "cell_type": "markdown",
   "id": "be224b89-eb83-4de6-ad45-01ad8773f23c",
   "metadata": {},
   "source": [
    "Diferente (!=)"
   ]
  },
  {
   "cell_type": "code",
   "execution_count": 103,
   "id": "957514ec-73e5-4f11-85f8-51c5737f5ff7",
   "metadata": {},
   "outputs": [
    {
     "name": "stdout",
     "output_type": "stream",
     "text": [
      "False\n",
      "True\n"
     ]
    }
   ],
   "source": [
    "print(numero_1 == numero_2 )          # 100 = 20\n",
    "print(numero_1 == (numero_2 + 80 ) )  # 100 = 20 + 80 "
   ]
  },
  {
   "cell_type": "code",
   "execution_count": 104,
   "id": "9b43844c-dc46-4f60-9df1-86dc43fd2fe6",
   "metadata": {},
   "outputs": [],
   "source": [
    "operacion_c1 = numero_1 == 100"
   ]
  },
  {
   "cell_type": "code",
   "execution_count": 105,
   "id": "3b28d449-9a95-4b5f-985c-1a079a7f1066",
   "metadata": {},
   "outputs": [
    {
     "name": "stdout",
     "output_type": "stream",
     "text": [
      "True\n"
     ]
    }
   ],
   "source": [
    "print (operacion_c1)"
   ]
  },
  {
   "cell_type": "markdown",
   "id": "feead856-059f-4606-bbf0-f04016806ef7",
   "metadata": {},
   "source": [
    "Ejercicio: Hallar divisores de 100"
   ]
  },
  {
   "cell_type": "markdown",
   "id": "040bd028-9725-4bf0-b403-669ab9db7988",
   "metadata": {},
   "source": [
    "N = 100,\n",
    "n = aleatorio entero"
   ]
  },
  {
   "cell_type": "markdown",
   "id": "db9f924c-c506-4e1d-be29-e38c5d81ddf6",
   "metadata": {},
   "source": [
    "Seran divisores de N, si al dividir N por n el residuo es cero. "
   ]
  },
  {
   "cell_type": "code",
   "execution_count": 157,
   "id": "b8245000-8280-42b6-9433-b09827c9b4b7",
   "metadata": {},
   "outputs": [
    {
     "name": "stdout",
     "output_type": "stream",
     "text": [
      "False\n",
      "El n es: 73\n",
      "El n es: 73\n"
     ]
    }
   ],
   "source": [
    "import random\n",
    "N = 100\n",
    "n = random.randint(1,100)\n",
    "operacion_DEL = N % n \n",
    "resultado = ( operacion_DEL == 0 )\n",
    "print(resultado)\n",
    "print(f\"El n es: {n}\")\n",
    "print(\"El n es:\", n)"
   ]
  },
  {
   "cell_type": "markdown",
   "id": "1956ca4d-ee53-4bfa-abd4-ce3808efb5a3",
   "metadata": {},
   "source": [
    "Tipado Dinamico "
   ]
  },
  {
   "cell_type": "code",
   "execution_count": 158,
   "id": "152fc93f-34b8-4674-80fe-14e6f9690c5a",
   "metadata": {},
   "outputs": [
    {
     "name": "stdout",
     "output_type": "stream",
     "text": [
      "500\n"
     ]
    }
   ],
   "source": [
    "valor_dinamico = 500 \n",
    "print( valor_dinamico )"
   ]
  },
  {
   "cell_type": "code",
   "execution_count": 159,
   "id": "2667fcbb-fd98-431e-8e83-b36e205d714e",
   "metadata": {},
   "outputs": [
    {
     "name": "stdout",
     "output_type": "stream",
     "text": [
      "Python cambia el tipo de dato por el tipado dinamico\n"
     ]
    }
   ],
   "source": [
    "valor_dinamico = \"Python cambia el tipo de dato por el tipado dinamico\"\n",
    "print( valor_dinamico )"
   ]
  },
  {
   "cell_type": "markdown",
   "id": "97a9fea9-dd2e-42a5-b317-ef74440d6d89",
   "metadata": {},
   "source": [
    "Operadores Logicos"
   ]
  },
  {
   "cell_type": "markdown",
   "id": "1bb086cc-d020-4e84-b10b-8298344901f3",
   "metadata": {},
   "source": [
    "Ejercicio\n",
    "\n",
    "a = 2, b = 3, c = 4, d = 5"
   ]
  },
  {
   "cell_type": "markdown",
   "id": "57502fc3-6513-45a9-8952-133f0b7dfe4e",
   "metadata": {},
   "source": [
    "((a*c) > (b + d)) or ((d – a ) > (c – b )) and (a ==b) or (c<a)"
   ]
  },
  {
   "cell_type": "code",
   "execution_count": 6,
   "id": "f553e06f-3bbb-4517-98f3-108944135d98",
   "metadata": {},
   "outputs": [
    {
     "data": {
      "text/plain": [
       "True"
      ]
     },
     "execution_count": 6,
     "metadata": {},
     "output_type": "execute_result"
    }
   ],
   "source": [
    "a = 2\n",
    "b = 3\n",
    "c = 4\n",
    "d = 5\n",
    "((a*c) > (b + d)) or ((d - a ) > (c - b )) and (a == b) or not(c<a)"
   ]
  },
  {
   "cell_type": "code",
   "execution_count": null,
   "id": "6eb4cab0-eb00-404c-875f-8dfc5b191fac",
   "metadata": {},
   "outputs": [],
   "source": []
  }
 ],
 "metadata": {
  "kernelspec": {
   "display_name": "Python 3 (ipykernel)",
   "language": "python",
   "name": "python3"
  },
  "language_info": {
   "codemirror_mode": {
    "name": "ipython",
    "version": 3
   },
   "file_extension": ".py",
   "mimetype": "text/x-python",
   "name": "python",
   "nbconvert_exporter": "python",
   "pygments_lexer": "ipython3",
   "version": "3.9.7"
  }
 },
 "nbformat": 4,
 "nbformat_minor": 5
}
