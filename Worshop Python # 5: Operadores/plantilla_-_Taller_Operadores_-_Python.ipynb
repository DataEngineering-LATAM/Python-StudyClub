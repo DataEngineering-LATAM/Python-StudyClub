{
 "cells": [
  {
   "cell_type": "markdown",
   "id": "0a43afe9-fc81-47cc-932d-33fad5f71207",
   "metadata": {},
   "source": [
    "Taller Introduccion Python - Operadores"
   ]
  },
  {
   "cell_type": "markdown",
   "id": "98b3339b-da3c-4e3f-a0e7-7b5f9b124195",
   "metadata": {},
   "source": [
    "Entrada y salida de datos"
   ]
  },
  {
   "cell_type": "code",
   "execution_count": 6,
   "id": "bc50d93f-2f91-4d19-a4f5-1815fc5559b5",
   "metadata": {},
   "outputs": [],
   "source": [
    "#comunidad = \"'Data Engineering Latam'\"\n",
    "#taller = \"Python: Operadores\"\n"
   ]
  },
  {
   "cell_type": "code",
   "execution_count": 7,
   "id": "7c00e13a-87ad-413d-82d8-9b0774499de2",
   "metadata": {},
   "outputs": [],
   "source": [
    "#input"
   ]
  },
  {
   "cell_type": "markdown",
   "id": "8cd43c8f-70ee-43b7-b097-c73d41b11115",
   "metadata": {},
   "source": [
    "Operadores Aritmeticos"
   ]
  },
  {
   "cell_type": "markdown",
   "id": "9b381319-a805-413a-abab-094c337c326e",
   "metadata": {
    "tags": []
   },
   "source": [
    "SUma (+)"
   ]
  },
  {
   "cell_type": "code",
   "execution_count": null,
   "id": "3b2ade4b-426b-4640-a383-d173059764b9",
   "metadata": {},
   "outputs": [],
   "source": []
  },
  {
   "cell_type": "code",
   "execution_count": null,
   "id": "6f1335b9-7484-4b80-a2ac-52a378364806",
   "metadata": {},
   "outputs": [],
   "source": []
  },
  {
   "cell_type": "code",
   "execution_count": null,
   "id": "9885824f-0ab1-4334-8045-b124d684db4f",
   "metadata": {},
   "outputs": [],
   "source": []
  },
  {
   "cell_type": "code",
   "execution_count": null,
   "id": "560914b0-779f-4988-b1b4-6ef756aa77aa",
   "metadata": {},
   "outputs": [],
   "source": []
  },
  {
   "cell_type": "markdown",
   "id": "c2fb5388-ae79-4b0b-8346-5e2b305fc47a",
   "metadata": {},
   "source": [
    "print(f'La suma de {entero_1} + {flotante} es {suma_2}')"
   ]
  },
  {
   "cell_type": "markdown",
   "id": "10258f68-965b-41c7-9097-617b94490254",
   "metadata": {},
   "source": [
    "Resta (-)"
   ]
  },
  {
   "cell_type": "code",
   "execution_count": null,
   "id": "3e4cf033-d14a-4b27-84c6-c826af4162c0",
   "metadata": {},
   "outputs": [],
   "source": []
  },
  {
   "cell_type": "markdown",
   "id": "3ef0c0d5-0523-4608-ac83-81ec87d5fae2",
   "metadata": {},
   "source": [
    "Multiplicacion (*)"
   ]
  },
  {
   "cell_type": "code",
   "execution_count": null,
   "id": "59b045a0-fdb3-4e0a-bea1-12df97850041",
   "metadata": {},
   "outputs": [],
   "source": []
  },
  {
   "cell_type": "markdown",
   "id": "8728d013-baf5-4091-b672-a0a28c052044",
   "metadata": {},
   "source": [
    "Division (/)"
   ]
  },
  {
   "cell_type": "code",
   "execution_count": null,
   "id": "42e21f4e-95b5-41d3-be5e-cb26fc61d394",
   "metadata": {},
   "outputs": [],
   "source": []
  },
  {
   "cell_type": "markdown",
   "id": "ab3ee2b7-0335-4af9-8496-26ab747fbf68",
   "metadata": {},
   "source": [
    "Divion entera a la baja (//)"
   ]
  },
  {
   "cell_type": "code",
   "execution_count": null,
   "id": "24a262e1-b256-45a2-86ae-35e59fda0682",
   "metadata": {},
   "outputs": [],
   "source": []
  },
  {
   "cell_type": "markdown",
   "id": "0676e59b-9794-4b76-b34c-e96096b3de51",
   "metadata": {},
   "source": [
    "Residuo (%)"
   ]
  },
  {
   "cell_type": "code",
   "execution_count": null,
   "id": "285d98af-8237-42fd-9cc0-c35e018627ae",
   "metadata": {},
   "outputs": [],
   "source": []
  },
  {
   "cell_type": "markdown",
   "id": "b12589ce-9fac-46d5-a493-82f1d78f3d69",
   "metadata": {},
   "source": [
    "Exponente (**)"
   ]
  },
  {
   "cell_type": "code",
   "execution_count": null,
   "id": "10501e1b-cefb-43f7-ad00-cbded8540d1b",
   "metadata": {},
   "outputs": [],
   "source": []
  },
  {
   "cell_type": "markdown",
   "id": "2db40d10-5a5b-47e6-bc83-f54890c77f34",
   "metadata": {},
   "source": [
    "Parentesis ()"
   ]
  },
  {
   "cell_type": "markdown",
   "id": "7f7e65cc-0c86-4e57-b567-0450d7c9202b",
   "metadata": {},
   "source": [
    "Orden/Prioridad de Operadores aritmeticos - PEMDAS\n",
    "- Parentesis, exponentes, multiplicacion-division, adicion-resta"
   ]
  },
  {
   "cell_type": "code",
   "execution_count": null,
   "id": "b04ed73b-93cb-4a1a-9ea6-0219f190ab46",
   "metadata": {},
   "outputs": [],
   "source": []
  },
  {
   "cell_type": "markdown",
   "id": "f37f9e0c-31d9-4ca1-ac5b-838c58c4dd6d",
   "metadata": {},
   "source": [
    "Explicacion: Operacion1\n",
    "100 + 10 - 4\n",
    "106\n",
    "Operacion2\n",
    "100 + 50 / 1\n",
    "100 + 50\n",
    "150"
   ]
  },
  {
   "cell_type": "markdown",
   "id": "bff1c9b8-bb43-4738-9df2-4a1e53d05266",
   "metadata": {},
   "source": [
    "Operadores de Asignacion: Asignar valores a una variable"
   ]
  },
  {
   "cell_type": "code",
   "execution_count": null,
   "id": "6a726a7d-aa66-4a5e-87c3-a12ef0aaed67",
   "metadata": {},
   "outputs": [],
   "source": []
  },
  {
   "cell_type": "markdown",
   "id": "8c807f24-6746-4fce-afed-d1492a96300c",
   "metadata": {},
   "source": [
    "Asignacion ( = )"
   ]
  },
  {
   "cell_type": "code",
   "execution_count": null,
   "id": "0b0c02d5-cb93-4363-a64f-801318372383",
   "metadata": {},
   "outputs": [],
   "source": []
  },
  {
   "cell_type": "code",
   "execution_count": null,
   "id": "245b11a5-f449-4299-9c7c-bcc1b3300836",
   "metadata": {},
   "outputs": [],
   "source": []
  },
  {
   "cell_type": "code",
   "execution_count": null,
   "id": "804d5da4-ac96-4f0b-b5d7-ce13faf5ca47",
   "metadata": {},
   "outputs": [],
   "source": []
  },
  {
   "cell_type": "markdown",
   "id": "91c52565-c96e-4abb-8200-704428637714",
   "metadata": {},
   "source": [
    "Suma en Asignacion (+=)"
   ]
  },
  {
   "cell_type": "code",
   "execution_count": null,
   "id": "bd88e253-a05e-4270-8456-cde9d03e5704",
   "metadata": {},
   "outputs": [],
   "source": []
  },
  {
   "cell_type": "markdown",
   "id": "b28f1201-212d-47a0-b29a-4a8618cab4d6",
   "metadata": {},
   "source": [
    "Resta en Asignacion (-=)"
   ]
  },
  {
   "cell_type": "code",
   "execution_count": null,
   "id": "32f0fac2-f263-47e4-b08a-fa274b9ee9fd",
   "metadata": {},
   "outputs": [],
   "source": []
  },
  {
   "cell_type": "markdown",
   "id": "fd396f26-98b2-4ce4-bf6f-be3cd57bf8e2",
   "metadata": {},
   "source": [
    "Multiplicacion en Asignacion (*=)"
   ]
  },
  {
   "cell_type": "code",
   "execution_count": null,
   "id": "3c1bb4a6-47f0-4f9f-b24c-0738d1855323",
   "metadata": {},
   "outputs": [],
   "source": []
  },
  {
   "cell_type": "markdown",
   "id": "3677a129-bded-4329-aa5e-ecfdd8a3c20e",
   "metadata": {},
   "source": [
    "Division en Asignacion (/=)"
   ]
  },
  {
   "cell_type": "code",
   "execution_count": null,
   "id": "cafa692f-30b9-457a-a500-fe2799d9c09d",
   "metadata": {},
   "outputs": [],
   "source": []
  },
  {
   "cell_type": "markdown",
   "id": "f1eb5abd-8600-4cd9-8a19-e3f5a0e5ad6e",
   "metadata": {},
   "source": [
    "Operadores de comparacion"
   ]
  },
  {
   "cell_type": "code",
   "execution_count": null,
   "id": "43cadb43-019c-459c-8ee4-58fd3b083c4b",
   "metadata": {},
   "outputs": [],
   "source": []
  },
  {
   "cell_type": "markdown",
   "id": "60da74c8-d7b6-4110-bb3b-49dab05b2117",
   "metadata": {},
   "source": [
    "Mayor que (>)"
   ]
  },
  {
   "cell_type": "code",
   "execution_count": null,
   "id": "d0c18ffb-324f-41cb-beb5-78fa33d4099d",
   "metadata": {},
   "outputs": [],
   "source": []
  },
  {
   "cell_type": "markdown",
   "id": "db9ea456-a8de-44e3-ac61-78579584e686",
   "metadata": {},
   "source": [
    "Mayor o igual que (>=)"
   ]
  },
  {
   "cell_type": "code",
   "execution_count": null,
   "id": "ecad0461-ccd3-42d4-97c5-9ede35c436f6",
   "metadata": {},
   "outputs": [],
   "source": []
  },
  {
   "cell_type": "markdown",
   "id": "a5e15736-08d8-4982-ab40-e9e5ee69c24b",
   "metadata": {},
   "source": [
    "Igualdad es (==)"
   ]
  },
  {
   "cell_type": "markdown",
   "id": "1cb1a50f-7cd3-409f-99f9-577272289d82",
   "metadata": {},
   "source": [
    "Asignacion (=)"
   ]
  },
  {
   "cell_type": "markdown",
   "id": "be224b89-eb83-4de6-ad45-01ad8773f23c",
   "metadata": {},
   "source": [
    "Diferente (!=)"
   ]
  },
  {
   "cell_type": "code",
   "execution_count": null,
   "id": "957514ec-73e5-4f11-85f8-51c5737f5ff7",
   "metadata": {},
   "outputs": [],
   "source": []
  },
  {
   "cell_type": "code",
   "execution_count": null,
   "id": "9b43844c-dc46-4f60-9df1-86dc43fd2fe6",
   "metadata": {},
   "outputs": [],
   "source": []
  },
  {
   "cell_type": "code",
   "execution_count": null,
   "id": "3b28d449-9a95-4b5f-985c-1a079a7f1066",
   "metadata": {},
   "outputs": [],
   "source": []
  },
  {
   "cell_type": "markdown",
   "id": "feead856-059f-4606-bbf0-f04016806ef7",
   "metadata": {},
   "source": [
    "Ejercicio: Hallar divisores de 100"
   ]
  },
  {
   "cell_type": "markdown",
   "id": "040bd028-9725-4bf0-b403-669ab9db7988",
   "metadata": {},
   "source": [
    "N = 100,\n",
    "n = aleatorio entero"
   ]
  },
  {
   "cell_type": "markdown",
   "id": "db9f924c-c506-4e1d-be29-e38c5d81ddf6",
   "metadata": {},
   "source": [
    "Seran divisores de N, si al dividir N por n el residuo es cero. "
   ]
  },
  {
   "cell_type": "code",
   "execution_count": null,
   "id": "b8245000-8280-42b6-9433-b09827c9b4b7",
   "metadata": {},
   "outputs": [],
   "source": []
  },
  {
   "cell_type": "markdown",
   "id": "1956ca4d-ee53-4bfa-abd4-ce3808efb5a3",
   "metadata": {},
   "source": [
    "Tipado Dinamico "
   ]
  },
  {
   "cell_type": "code",
   "execution_count": null,
   "id": "152fc93f-34b8-4674-80fe-14e6f9690c5a",
   "metadata": {},
   "outputs": [],
   "source": []
  },
  {
   "cell_type": "code",
   "execution_count": null,
   "id": "2667fcbb-fd98-431e-8e83-b36e205d714e",
   "metadata": {},
   "outputs": [],
   "source": []
  },
  {
   "cell_type": "markdown",
   "id": "97a9fea9-dd2e-42a5-b317-ef74440d6d89",
   "metadata": {},
   "source": [
    "Operadores Logicos"
   ]
  },
  {
   "cell_type": "markdown",
   "id": "1bb086cc-d020-4e84-b10b-8298344901f3",
   "metadata": {},
   "source": [
    "Ejercicio\n",
    "\n",
    "a = 2, b = 3, c = 4, d = 5"
   ]
  },
  {
   "cell_type": "markdown",
   "id": "57502fc3-6513-45a9-8952-133f0b7dfe4e",
   "metadata": {},
   "source": [
    "((a*c) > (b + d)) or ((d – a ) > (c – b )) and (a ==b) or (c<a)"
   ]
  },
  {
   "cell_type": "code",
   "execution_count": null,
   "id": "f553e06f-3bbb-4517-98f3-108944135d98",
   "metadata": {},
   "outputs": [],
   "source": []
  },
  {
   "cell_type": "code",
   "execution_count": null,
   "id": "6eb4cab0-eb00-404c-875f-8dfc5b191fac",
   "metadata": {},
   "outputs": [],
   "source": []
  }
 ],
 "metadata": {
  "kernelspec": {
   "display_name": "Python 3 (ipykernel)",
   "language": "python",
   "name": "python3"
  },
  "language_info": {
   "codemirror_mode": {
    "name": "ipython",
    "version": 3
   },
   "file_extension": ".py",
   "mimetype": "text/x-python",
   "name": "python",
   "nbconvert_exporter": "python",
   "pygments_lexer": "ipython3",
   "version": "3.9.7"
  }
 },
 "nbformat": 4,
 "nbformat_minor": 5
}
