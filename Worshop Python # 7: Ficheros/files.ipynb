{
 "cells": [
  {
   "cell_type": "markdown",
   "metadata": {},
   "source": [
    "# Manejo de archivos"
   ]
  },
  {
   "cell_type": "markdown",
   "metadata": {},
   "source": [
    "## import de librerias"
   ]
  },
  {
   "cell_type": "code",
   "execution_count": 1,
   "metadata": {},
   "outputs": [],
   "source": [
    "import io\n",
    "import os\n",
    "import struct\n",
    "import time"
   ]
  },
  {
   "cell_type": "markdown",
   "metadata": {},
   "source": [
    "### Clase para el tratamiento de datos"
   ]
  },
  {
   "cell_type": "code",
   "execution_count": 2,
   "metadata": {},
   "outputs": [],
   "source": [
    "file_read: str = \"iris_df.csv\"\n",
    "file_bk: str = \"iris_bk.csv\"\n",
    "file_created: str = \"iris_created.csv\"\n",
    "iris_binary: str = \"iris_binary.bin\"\n",
    "iris_bk_test: str = \"iris_bk_test.csv\"\n",
    "\n",
    "os.remove(file_created)\n",
    "\n",
    "class IrisClass:\n",
    "    def __init__(\n",
    "        self,\n",
    "        sepal_length: str,\n",
    "        sepal_width: str,\n",
    "        petal_length: str,\n",
    "        petal_width: str,\n",
    "        class_type: str\n",
    "    ) -> None:\n",
    "        self.sepal_length = float(sepal_length)\n",
    "        self.sepal_width = float(sepal_width)\n",
    "        self.petal_length = float(petal_length)\n",
    "        self.petal_width = float(petal_width)\n",
    "        self.class_type = class_type.replace(\"\\n\", \"\")\n",
    "\n",
    "    def transform_class_type(self) -> str:\n",
    "        mapper = {\n",
    "            \"Iris-setosa\": 1,\n",
    "            \"Iris-versicolor\": 2,\n",
    "            \"Iris-virginica\": 3,\n",
    "        }\n",
    "        n_class_type = mapper[self.class_type]\n",
    "\n",
    "        return (\n",
    "            f'{self.sepal_length},'\n",
    "            f'{self.sepal_width},'\n",
    "            f'{self.petal_length},'\n",
    "            f'{self.petal_width},'\n",
    "            f'{n_class_type}'\n",
    "        )\n",
    "\n",
    "    def return_list_numbers(self) -> list:\n",
    "        mapper = {\n",
    "            \"Iris-setosa\": 1,\n",
    "            \"Iris-versicolor\": 2,\n",
    "            \"Iris-virginica\": 3,\n",
    "        }\n",
    "        n_class_type = mapper[self.class_type]\n",
    "\n",
    "        return [\n",
    "            self.sepal_length,\n",
    "            self.sepal_width,\n",
    "            self.petal_length,\n",
    "            self.petal_width,\n",
    "            n_class_type,\n",
    "        ]\n",
    "\n",
    "    def __str__(self) -> str:\n",
    "        return (\n",
    "            f'Class Flower: {self.class_type}\\n'\n",
    "            f'Sepal Size: [{self.sepal_length}, {self.sepal_width}]\\n'\n",
    "            f'Petal Size: [{self.petal_length}, {self.petal_width}]\\n'\n",
    "        )\n",
    "\n",
    "    def __repr__(self) -> str:\n",
    "        return (\n",
    "            f'Class Flower: {self.class_type}\\n'\n",
    "            f'Sepal Length: {self.sepal_length}\\n'\n",
    "            f'Sepal Width: {self.sepal_width}\\n'\n",
    "            f'Petal Length: {self.petal_length}\\n'\n",
    "            f'Petal Width: {self.petal_width}\\n'\n",
    "        )"
   ]
  },
  {
   "cell_type": "markdown",
   "metadata": {},
   "source": [
    "## Funciones para abrir archivos\n",
    "<p>\n",
    "    Existen dos maneras de abrir los archivos:\n",
    "    <ol>\n",
    "        <li> open y close de forma tradicional </li>\n",
    "        <li> open usando contexto, en este no se usa close el mismo contexto lo aplica </li>\n",
    "    </ol>\n",
    "</p>"
   ]
  },
  {
   "cell_type": "markdown",
   "metadata": {},
   "source": [
    "### Forma tradicional"
   ]
  },
  {
   "cell_type": "code",
   "execution_count": 3,
   "metadata": {},
   "outputs": [
    {
     "name": "stdout",
     "output_type": "stream",
     "text": [
      "5.1,3.5,1.4,0.2,Iris-setosa\n",
      "4.9,3.0,1.4,0.2,Iris-setosa\n",
      "4.7,3.2,1.3,0.2,Iris-setosa\n",
      "4.6,3.1,1.5,0.2,Iris-setosa\n",
      "5.0,3.6,1.4,0.2,Iris-setosa\n"
     ]
    }
   ],
   "source": [
    "f = open(file_read, \"r\", encoding=\"utf-8\")\n",
    "lines = 5\n",
    "count = 0\n",
    "\n",
    "for line in f:\n",
    "    count += 1\n",
    "    print(line.replace(\"\\n\", \"\"))\n",
    "\n",
    "    if count == lines:\n",
    "        break\n",
    "\n",
    "f.close()"
   ]
  },
  {
   "cell_type": "markdown",
   "metadata": {},
   "source": [
    "### Usando open como contexto"
   ]
  },
  {
   "cell_type": "code",
   "execution_count": 4,
   "metadata": {},
   "outputs": [
    {
     "name": "stdout",
     "output_type": "stream",
     "text": [
      "5.1,3.5,1.4,0.2,Iris-setosa\n",
      "4.9,3.0,1.4,0.2,Iris-setosa\n",
      "4.7,3.2,1.3,0.2,Iris-setosa\n",
      "4.6,3.1,1.5,0.2,Iris-setosa\n",
      "5.0,3.6,1.4,0.2,Iris-setosa\n"
     ]
    }
   ],
   "source": [
    "with open(file_read, \"r\", encoding=\"utf-8\") as f:\n",
    "    lines = 5\n",
    "    count = 0\n",
    "\n",
    "    for line in f:\n",
    "        count += 1\n",
    "        print(line.replace(\"\\n\", \"\"))\n",
    "\n",
    "        if count == lines:\n",
    "            break"
   ]
  },
  {
   "cell_type": "markdown",
   "metadata": {},
   "source": [
    "## Leyendo un archivo\n",
    "<p>\n",
    "    Se pueden leer los archivos de dos formas:\n",
    "    <ol>\n",
    "        <li> usando `readlines` para leer el archivo completo </li>\n",
    "        <li> usando el `objeto File` como iterador para leer linea por linea </li>\n",
    "    </ol>\n",
    "</p>"
   ]
  },
  {
   "cell_type": "markdown",
   "metadata": {},
   "source": [
    "#### Todas las lineas"
   ]
  },
  {
   "cell_type": "code",
   "execution_count": 5,
   "metadata": {},
   "outputs": [
    {
     "name": "stdout",
     "output_type": "stream",
     "text": [
      "Muestra de lineas:  ['5.1,3.5,1.4,0.2,Iris-setosa\\n', '4.9,3.0,1.4,0.2,Iris-setosa\\n', '4.7,3.2,1.3,0.2,Iris-setosa\\n', '4.6,3.1,1.5,0.2,Iris-setosa\\n', '5.0,3.6,1.4,0.2,Iris-setosa\\n']\n",
      "Numero de lineas en el archivo 151\n"
     ]
    }
   ],
   "source": [
    "with open(file_read, \"r\", encoding=\"utf-8\") as f:\n",
    "    all_lines = f.readlines()\n",
    "    print(\"Muestra de lineas: \", all_lines[:5])\n",
    "    print(\"Numero de lineas en el archivo\", len(all_lines))"
   ]
  },
  {
   "cell_type": "markdown",
   "metadata": {},
   "source": [
    "### Linea por linea"
   ]
  },
  {
   "cell_type": "code",
   "execution_count": 6,
   "metadata": {},
   "outputs": [
    {
     "name": "stdout",
     "output_type": "stream",
     "text": [
      "['5.1,3.5,1.4,0.2,Iris-setosa\\n', '4.9,3.0,1.4,0.2,Iris-setosa\\n', '4.7,3.2,1.3,0.2,Iris-setosa\\n', '4.6,3.1,1.5,0.2,Iris-setosa\\n', '5.0,3.6,1.4,0.2,Iris-setosa\\n']\n",
      "151\n",
      "********************************************************************************\n",
      "['5.1,3.5,1.4,0.2,Iris-setosa\\n', '4.9,3.0,1.4,0.2,Iris-setosa\\n', '4.7,3.2,1.3,0.2,Iris-setosa\\n', '4.6,3.1,1.5,0.2,Iris-setosa\\n', '5.0,3.6,1.4,0.2,Iris-setosa\\n', '5.4,3.9,1.7,0.4,Iris-setosa\\n']\n"
     ]
    }
   ],
   "source": [
    "num_read_lines = 5\n",
    "\n",
    "with open(file_read, \"r\", encoding=\"utf-8\") as f:\n",
    "    # Leyendo todo el archivo usando el iterador\n",
    "    other_lines = []\n",
    "    all_lines = [line for line in f]\n",
    "    print(all_lines[:5])\n",
    "    print(len(all_lines))\n",
    "    print(\"*\" * 80)\n",
    "    # este metodo sirve para regresar el apuntador del archivo al principio\n",
    "    f.seek(0)\n",
    "\n",
    "    # leyendo solo 5 lineas del archivo\n",
    "    for i, line in enumerate(f):\n",
    "        other_lines.append(line)\n",
    "\n",
    "        if i == num_read_lines:\n",
    "            break\n",
    "\n",
    "    print(other_lines)"
   ]
  },
  {
   "cell_type": "markdown",
   "metadata": {},
   "source": [
    "## Escribiendo un archivo\n",
    "<p>\n",
    "    Para escribir un archivo podemos hacer uso de estos 3 modos:\n",
    "    <ol>\n",
    "        <li> `w` - sirve para crear el archivo, pero si existe lo borra </li>\n",
    "        <li> `a` - sirve para agregar nuevos elementos al archivo </li>\n",
    "        <li> `x` - sirve solo para crear el archivo, falla si el archivo existe </li>\n",
    "    </ol>\n",
    "</p>\n",
    "\n",
    "<p>\n",
    "    De igual manera para agregar texto al archivo se usa:\n",
    "    <ol>\n",
    "        <li> `write` - se usa para escribir solo una linea en el archivo </li>\n",
    "        <li> `writelines` - se usa para escribir multiples lineas (list) en el archivo </li>\n",
    "    </ol>\n",
    "</p>"
   ]
  },
  {
   "cell_type": "markdown",
   "metadata": {},
   "source": [
    "### Leyendo el archivo para reescrirlo"
   ]
  },
  {
   "cell_type": "code",
   "execution_count": 7,
   "metadata": {},
   "outputs": [
    {
     "name": "stdout",
     "output_type": "stream",
     "text": [
      "['5.1,3.5,1.4,0.2,Iris-setosa\\n', '4.9,3.0,1.4,0.2,Iris-setosa\\n', '4.7,3.2,1.3,0.2,Iris-setosa\\n', '4.6,3.1,1.5,0.2,Iris-setosa\\n', '5.0,3.6,1.4,0.2,Iris-setosa\\n']\n",
      "********************************************************************************\n",
      "[['5.1', '3.5', '1.4', '0.2', 'Iris-setosa\\n'], ['4.9', '3.0', '1.4', '0.2', 'Iris-setosa\\n'], ['4.7', '3.2', '1.3', '0.2', 'Iris-setosa\\n'], ['4.6', '3.1', '1.5', '0.2', 'Iris-setosa\\n'], ['5.0', '3.6', '1.4', '0.2', 'Iris-setosa\\n']]\n",
      "5\n",
      "Class Flower: Iris-setosa\n",
      "Sepal Size: [5.1, 3.5]\n",
      "Petal Size: [1.4, 0.2]\n",
      "\n"
     ]
    }
   ],
   "source": [
    "with open(file_read, \"r\", encoding=\"utf-8\") as f:\n",
    "    all_lines = f.readlines()\n",
    "    print(all_lines[:5])\n",
    "\n",
    "print(\"*\" * 80)\n",
    "clean_lines = [line.split(\",\") for line in all_lines]\n",
    "print(clean_lines[:5])\n",
    "print(len(clean_lines[0]))\n",
    "# Creando clase para parseo\n",
    "iris_class = [\n",
    "    IrisClass(line[0], line[1], line[2], line[3], line[4])\n",
    "    for line in clean_lines\n",
    "    if len(line) == 5\n",
    "]\n",
    "print(iris_class[0])"
   ]
  },
  {
   "cell_type": "markdown",
   "metadata": {},
   "source": [
    "### Reescribiendo el archivo (cambiando el valor del tipo de Iris a numerico)"
   ]
  },
  {
   "cell_type": "markdown",
   "metadata": {},
   "source": [
    "#### Usando `write`"
   ]
  },
  {
   "cell_type": "code",
   "execution_count": 8,
   "metadata": {},
   "outputs": [
    {
     "name": "stdout",
     "output_type": "stream",
     "text": [
      "Is not possible read file `not readable`\n"
     ]
    }
   ],
   "source": [
    "with open(file_bk, \"w\", encoding=\"utf-8\") as f:\n",
    "    try:\n",
    "        f.readlines()\n",
    "    except io.UnsupportedOperation as uo:\n",
    "        print(\"Is not possible read file `%s`\" % str(uo))\n",
    "\n",
    "    for iris in iris_class:\n",
    "        f.write(iris.transform_class_type() + \"\\n\")"
   ]
  },
  {
   "cell_type": "markdown",
   "metadata": {},
   "source": [
    "#### Usando `writelines`"
   ]
  },
  {
   "cell_type": "code",
   "execution_count": 9,
   "metadata": {},
   "outputs": [],
   "source": [
    "with open(file_bk, \"w\", encoding=\"utf-8\") as f:\n",
    "    all_lines_w = [iris.transform_class_type() + \"\\n\" for iris in iris_class]\n",
    "    f.writelines(all_lines_w)"
   ]
  },
  {
   "cell_type": "markdown",
   "metadata": {},
   "source": [
    "#### Usando `a` para agregar nuevas lineas"
   ]
  },
  {
   "cell_type": "markdown",
   "metadata": {},
   "source": [
    "##### Usando `write`"
   ]
  },
  {
   "cell_type": "code",
   "execution_count": 10,
   "metadata": {},
   "outputs": [
    {
     "name": "stdout",
     "output_type": "stream",
     "text": [
      "Is not possible read file `not readable`\n"
     ]
    }
   ],
   "source": [
    "with open(file_bk, \"a\", encoding=\"utf-8\") as f:\n",
    "    try:\n",
    "        f.readlines()\n",
    "    except io.UnsupportedOperation as uo:\n",
    "        print(\"Is not possible read file `%s`\" % str(uo))\n",
    "\n",
    "    new_lines = [\n",
    "        iris.transform_class_type() + \"\\n\" for iris in iris_class\n",
    "    ][:5]\n",
    "\n",
    "    for line in new_lines:\n",
    "        f.write(line)"
   ]
  },
  {
   "cell_type": "markdown",
   "metadata": {},
   "source": [
    "#### Usando `writelines`"
   ]
  },
  {
   "cell_type": "code",
   "execution_count": 11,
   "metadata": {},
   "outputs": [],
   "source": [
    "with open(file_bk, \"a\", encoding=\"utf-8\") as f:\n",
    "    new_lines = [\n",
    "        iris.transform_class_type() + \"\\n\" for iris in iris_class\n",
    "    ][:5]\n",
    "\n",
    "    f.writelines(new_lines)"
   ]
  },
  {
   "cell_type": "markdown",
   "metadata": {},
   "source": [
    "#### Usando `x`"
   ]
  },
  {
   "cell_type": "code",
   "execution_count": 12,
   "metadata": {},
   "outputs": [],
   "source": [
    "with open(file_created, \"x\", encoding=\"utf-8\") as f:\n",
    "    new_lines = [\n",
    "        iris.transform_class_type() + \"\\n\" for iris in iris_class\n",
    "    ][:5]\n",
    "\n",
    "    f.writelines(new_lines)\n",
    "\n",
    "    for line in new_lines:\n",
    "        f.write(line)"
   ]
  },
  {
   "cell_type": "code",
   "execution_count": 13,
   "metadata": {},
   "outputs": [
    {
     "name": "stdout",
     "output_type": "stream",
     "text": [
      "[Errno 17] File exists: 'iris_created.csv'\n"
     ]
    }
   ],
   "source": [
    "try:\n",
    "    with open(file_created, \"x\", encoding=\"utf-8\") as f:\n",
    "        new_lines = [\n",
    "            iris.transform_class_type() + \"\\n\" for iris in iris_class\n",
    "        ][:5]\n",
    "\n",
    "        f.writelines(new_lines)\n",
    "except FileExistsError as fee:\n",
    "    print(fee)"
   ]
  },
  {
   "cell_type": "markdown",
   "metadata": {},
   "source": [
    "### Creando y leyendo un archivo binario\n",
    "\n",
    "<p>\n",
    "    Para este ejemplo se usa el mismo dataset, debido a que se usan numeros de punto flotante\n",
    "    se debe de hacer un empaquetado con la libreria `struct` nativa de python.\n",
    "</p>\n",
    "<p>\n",
    "    Para la parte de leer se tiene que hacer el proceso inverso, en este caso por ser de\n",
    "    tipo flotante se debe declarar un buffer de 4 bytes:\n",
    "    https://docs.python.org/3/library/struct.html#format-characters\n",
    "</p>"
   ]
  },
  {
   "cell_type": "code",
   "execution_count": 14,
   "metadata": {},
   "outputs": [],
   "source": [
    "with open(iris_binary, \"wb\") as f:\n",
    "    new_lines = [\n",
    "        struct.pack(\n",
    "            '%sf' % len(iris.return_list_numbers()),\n",
    "            *iris.return_list_numbers(),\n",
    "        )\n",
    "        for iris in iris_class\n",
    "    ]\n",
    "\n",
    "    f.writelines(new_lines)"
   ]
  },
  {
   "cell_type": "code",
   "execution_count": 15,
   "metadata": {},
   "outputs": [
    {
     "name": "stdout",
     "output_type": "stream",
     "text": [
      "[[5.099999904632568, 3.5, 1.399999976158142, 0.20000000298023224, 1.0], [4.900000095367432, 3.0, 1.399999976158142, 0.20000000298023224, 1.0], [4.699999809265137, 3.200000047683716, 1.2999999523162842, 0.20000000298023224, 1.0], [4.599999904632568, 3.0999999046325684, 1.5, 0.20000000298023224, 1.0], [5.0, 3.5999999046325684, 1.399999976158142, 0.20000000298023224, 1.0]]\n"
     ]
    }
   ],
   "source": [
    "with open(iris_binary, \"rb\") as f:\n",
    "    array_complete = []\n",
    "    simple_array = []\n",
    "\n",
    "    while (buff := f.read(4)):\n",
    "        simple_array.append(struct.unpack(\"f\", buff)[0])\n",
    "\n",
    "        if len(simple_array) == 5:\n",
    "            array_complete.append(simple_array)\n",
    "            simple_array = []\n",
    "\n",
    "print(array_complete[:5])"
   ]
  },
  {
   "cell_type": "markdown",
   "metadata": {},
   "source": [
    "#### usando `+`"
   ]
  },
  {
   "cell_type": "markdown",
   "metadata": {},
   "source": [
    "#### Escribiendo el archivo"
   ]
  },
  {
   "cell_type": "code",
   "execution_count": 16,
   "metadata": {},
   "outputs": [
    {
     "name": "stdout",
     "output_type": "stream",
     "text": [
      "********************************************************************************\n",
      "[]\n",
      "********************************************************************************\n",
      "********************************************************************************\n",
      "['5.1,3.5,1.4,0.2,1\\n', '4.9,3.0,1.4,0.2,1\\n', '4.7,3.2,1.3,0.2,1\\n', '4.6,3.1,1.5,0.2,1\\n', '5.0,3.6,1.4,0.2,1\\n']\n",
      "********************************************************************************\n"
     ]
    }
   ],
   "source": [
    "with open(iris_bk_test, \"w+\") as f:\n",
    "    lines = f.readlines()\n",
    "    print(\"*\" * 80)\n",
    "    print(lines)\n",
    "    print(\"*\" * 80)\n",
    "    new_lines = [\n",
    "        iris.transform_class_type() + \"\\n\" for iris in iris_class\n",
    "    ]\n",
    "    time.sleep(20)\n",
    "    f.writelines(new_lines)\n",
    "    f.seek(0)\n",
    "    lines = f.readlines()\n",
    "    print(\"*\" * 80)\n",
    "    print(lines[:5])\n",
    "    print(\"*\" * 80)"
   ]
  },
  {
   "cell_type": "markdown",
   "metadata": {},
   "source": [
    "#### Leyendo el archivo"
   ]
  },
  {
   "cell_type": "code",
   "execution_count": 17,
   "metadata": {},
   "outputs": [
    {
     "name": "stdout",
     "output_type": "stream",
     "text": [
      "['5.1,3.5,1.4,0.2,1\\n', '4.9,3.0,1.4,0.2,1\\n', '4.7,3.2,1.3,0.2,1\\n', '4.6,3.1,1.5,0.2,1\\n', '5.0,3.6,1.4,0.2,1\\n']\n"
     ]
    }
   ],
   "source": [
    "with open(iris_bk_test, \"r+\") as f:\n",
    "    lines = f.readlines()\n",
    "    print(lines[:5])\n",
    "    f.writelines(lines[:5])"
   ]
  }
 ],
 "metadata": {
  "kernelspec": {
   "display_name": "Python 3 (ipykernel)",
   "language": "python",
   "name": "python3"
  },
  "language_info": {
   "codemirror_mode": {
    "name": "ipython",
    "version": 3
   },
   "file_extension": ".py",
   "mimetype": "text/x-python",
   "name": "python",
   "nbconvert_exporter": "python",
   "pygments_lexer": "ipython3",
   "version": "3.9.13"
  },
  "vscode": {
   "interpreter": {
    "hash": "4ae1d9573f36c5ea85e81284a590ce02170bd3f6f3d77e6fc9900e8410b6db09"
   }
  }
 },
 "nbformat": 4,
 "nbformat_minor": 4
}
