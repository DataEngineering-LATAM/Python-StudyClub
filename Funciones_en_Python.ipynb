{
  "nbformat": 4,
  "nbformat_minor": 0,
  "metadata": {
    "colab": {
      "provenance": [],
      "collapsed_sections": []
    },
    "kernelspec": {
      "name": "python3",
      "display_name": "Python 3"
    },
    "language_info": {
      "name": "python"
    }
  },
  "cells": [
    {
      "cell_type": "markdown",
      "source": [
        "# **Aprendiendo Python 🐍 con Data Engineering Latam**\n",
        "# **FUNCIONES**\n",
        "\n",
        "> By: [Neftalí Sacuj](https://www.linkedin.com/in/neftali-sacuj/)\n"
      ],
      "metadata": {
        "id": "HSQvgtNZchYV"
      }
    },
    {
      "cell_type": "code",
      "source": [
        "# Resolviendo el RETO DATA Engineering LATAM\n",
        "fruits = [\"apple\",\"banana\", \"cherry\"]\n",
        "print(fruits[-1])"
      ],
      "metadata": {
        "id": "PZKr6H-ZiLoC",
        "colab": {
          "base_uri": "https://localhost:8080/"
        },
        "outputId": "d0e89d45-58e5-4147-a7ce-b024d4b5c94f"
      },
      "execution_count": null,
      "outputs": [
        {
          "output_type": "stream",
          "name": "stdout",
          "text": [
            "cherry\n"
          ]
        }
      ]
    },
    {
      "cell_type": "markdown",
      "source": [
        "### Cómo creo una función?"
      ],
      "metadata": {
        "id": "p6YEvVcy1W6v"
      }
    },
    {
      "cell_type": "code",
      "source": [
        "def mi_funcion(): #nombre de la función\n",
        "  print(\"Función que dice 'Hola DEL' \") # Algoritmo de la función\n",
        "\n",
        "mi_funcion()"
      ],
      "metadata": {
        "colab": {
          "base_uri": "https://localhost:8080/"
        },
        "id": "10M8eKDi7nRO",
        "outputId": "bb5b2cf9-aaf0-4efe-9033-1cb5ab129b13"
      },
      "execution_count": null,
      "outputs": [
        {
          "output_type": "stream",
          "name": "stdout",
          "text": [
            "Función que dice 'Hola DEL' \n"
          ]
        }
      ]
    },
    {
      "cell_type": "markdown",
      "source": [
        "###Cómo le mando parámetros a una función?\n"
      ],
      "metadata": {
        "id": "pR-4l9tL76Ml"
      }
    },
    {
      "cell_type": "code",
      "source": [
        "def mi_funcion(param_1, param_2): \n",
        "  print(param_1)\n",
        "  print(param_2)\n",
        "\n",
        "mi_funcion (\"Parametro uno\", \"Parametro dos\")"
      ],
      "metadata": {
        "colab": {
          "base_uri": "https://localhost:8080/"
        },
        "id": "bf86J6ZC1dSt",
        "outputId": "11837baf-edc6-4036-c2d7-712e41902f2e"
      },
      "execution_count": null,
      "outputs": [
        {
          "output_type": "stream",
          "name": "stdout",
          "text": [
            "Parametro uno\n",
            "Parametro dos\n"
          ]
        }
      ]
    },
    {
      "cell_type": "markdown",
      "source": [
        "Definamos nuestra primera función?"
      ],
      "metadata": {
        "id": "M3V6PgV7e-O0"
      }
    },
    {
      "cell_type": "code",
      "source": [
        "#Espacio para nuestro Código\n",
        "#Una función que determine sí un número ingresado es positivo o negativo\n",
        "def positivo_negativo(numero):\n",
        "  if numero < 0:\n",
        "      return(\"El numero ingresado es Negativo\")\n",
        "  else:\n",
        "      return(\"El numero ingresado es Positivo\")\n",
        "\n",
        "numero = int (input(\"Ingrese un numero: \"))\n",
        "positivo_negativo(numero)\n"
      ],
      "metadata": {
        "colab": {
          "base_uri": "https://localhost:8080/",
          "height": 52
        },
        "id": "kIDypy6dfE_w",
        "outputId": "6697d0e2-8b45-48f2-9d88-fd9f2bb2f785"
      },
      "execution_count": null,
      "outputs": [
        {
          "name": "stdout",
          "output_type": "stream",
          "text": [
            "Ingrese un numero: -8\n"
          ]
        },
        {
          "output_type": "execute_result",
          "data": {
            "text/plain": [
              "'El numero ingresado es Negativo'"
            ],
            "application/vnd.google.colaboratory.intrinsic+json": {
              "type": "string"
            }
          },
          "metadata": {},
          "execution_count": 5
        }
      ]
    },
    {
      "cell_type": "markdown",
      "source": [
        "## ***Ejercicio:*** \n",
        "## 1. Una función que determine sí un valor enviado es par o impar?\n",
        "\n",
        "## 2. Función para determinar si un número es de 2 dígitos o no?"
      ],
      "metadata": {
        "id": "AGOO3cAihh5M"
      }
    },
    {
      "cell_type": "code",
      "source": [
        "## Escribamos aquí el código\n",
        "def parimpar(valor):\n",
        "  if valor % 2 == 0:\n",
        "    print(\"El numero ingresado es par\")\n",
        "  else:\n",
        "    print(\"El numero ingresado es impar\")\n",
        "\n",
        "valor = int (input(\"Ingrese un numero: \"))\n",
        "parimpar(valor)"
      ],
      "metadata": {
        "id": "o44_hXODhXaq",
        "colab": {
          "base_uri": "https://localhost:8080/"
        },
        "outputId": "26545716-068a-4126-ecd6-b1e5ed3a7e38"
      },
      "execution_count": null,
      "outputs": [
        {
          "output_type": "stream",
          "name": "stdout",
          "text": [
            "Ingrese un numero: 15\n",
            "El numero ingresado es impar\n"
          ]
        }
      ]
    },
    {
      "cell_type": "markdown",
      "source": [
        "\n",
        "\n",
        "### Qué ocurre con las Variables en una Función?"
      ],
      "metadata": {
        "id": "UKbyNsh2kogE"
      }
    },
    {
      "cell_type": "code",
      "source": [
        "def mi_funcion_con_variable(param_1, param_2):\n",
        "  variable_local = 'Esta es una variable local'\n",
        "  Variable_local_2 = 'Esta es otra variable local'\n",
        "  print(param_1+\" \"+ variable_local)\n",
        "  print(param_2)\n",
        "\n",
        "\n",
        "mi_funcion_con_variable (\"Param uno\", \"Param 2\")\n",
        "\n",
        "# print(variable_local)"
      ],
      "metadata": {
        "id": "tjroOIFjX1bB",
        "colab": {
          "base_uri": "https://localhost:8080/",
          "height": 239
        },
        "outputId": "e2c60beb-cdac-400f-9bb1-7ac1faaae33f"
      },
      "execution_count": null,
      "outputs": [
        {
          "output_type": "stream",
          "name": "stdout",
          "text": [
            "Param uno Esta es una variable local\n",
            "Param 2\n"
          ]
        },
        {
          "output_type": "error",
          "ename": "NameError",
          "evalue": "ignored",
          "traceback": [
            "\u001b[0;31m---------------------------------------------------------------------------\u001b[0m",
            "\u001b[0;31mNameError\u001b[0m                                 Traceback (most recent call last)",
            "\u001b[0;32m<ipython-input-11-95eb9be42375>\u001b[0m in \u001b[0;36m<module>\u001b[0;34m\u001b[0m\n\u001b[1;32m      8\u001b[0m \u001b[0mmi_funcion_con_variable\u001b[0m \u001b[0;34m(\u001b[0m\u001b[0;34m\"Param uno\"\u001b[0m\u001b[0;34m,\u001b[0m \u001b[0;34m\"Param 2\"\u001b[0m\u001b[0;34m)\u001b[0m\u001b[0;34m\u001b[0m\u001b[0;34m\u001b[0m\u001b[0m\n\u001b[1;32m      9\u001b[0m \u001b[0;34m\u001b[0m\u001b[0m\n\u001b[0;32m---> 10\u001b[0;31m \u001b[0mprint\u001b[0m\u001b[0;34m(\u001b[0m\u001b[0mvariable_local\u001b[0m\u001b[0;34m)\u001b[0m\u001b[0;34m\u001b[0m\u001b[0;34m\u001b[0m\u001b[0m\n\u001b[0m",
            "\u001b[0;31mNameError\u001b[0m: name 'variable_local' is not defined"
          ]
        }
      ]
    },
    {
      "cell_type": "markdown",
      "source": [
        "### Las funciones Retornan un Valor?"
      ],
      "metadata": {
        "id": "eS2l4mjo1uyg"
      }
    },
    {
      "cell_type": "code",
      "source": [
        "def sumar(sum1, sum2 ):\n",
        "  resultado = sum1 + sum2\n",
        "  return resultado\n",
        "\n",
        "respuesta = sumar(3,7)\n",
        "\n",
        "print(respuesta)\n",
        "# print(sumar(3, 7))\n",
        "\n"
      ],
      "metadata": {
        "colab": {
          "base_uri": "https://localhost:8080/"
        },
        "id": "xBs62jLI1t7_",
        "outputId": "d649f122-1034-4f0b-a3a4-ee0862f0b0c6"
      },
      "execution_count": null,
      "outputs": [
        {
          "output_type": "stream",
          "name": "stdout",
          "text": [
            "10\n"
          ]
        }
      ]
    },
    {
      "cell_type": "markdown",
      "source": [
        "### Cómo capturamos el valor de retorno de una función?\n"
      ],
      "metadata": {
        "id": "3RIDjgQ65HWG"
      }
    },
    {
      "cell_type": "code",
      "source": [
        "def restar(valor1, valor2):\n",
        "  return valor1 - valor2\n",
        "\n",
        "resutltado = restar(10,9)\n",
        "print(resutltado)\n",
        "\n",
        "manipular_resultado = resutltado+99\n",
        "print(manipular_resultado)"
      ],
      "metadata": {
        "colab": {
          "base_uri": "https://localhost:8080/"
        },
        "id": "U4FyVa6b5eW4",
        "outputId": "61fc39e3-2c0e-4ef9-cfa3-f99236a35f91"
      },
      "execution_count": null,
      "outputs": [
        {
          "output_type": "stream",
          "name": "stdout",
          "text": [
            "1\n",
            "100\n"
          ]
        }
      ]
    },
    {
      "cell_type": "markdown",
      "source": [
        "### Parámetros por Valor vrs Referencia"
      ],
      "metadata": {
        "id": "Fi1m3kuO3aIH"
      }
    },
    {
      "cell_type": "code",
      "source": [
        "def f(x, y):\n",
        "  x = x + 3\n",
        "  y.append(23)\n",
        "  print(x, y)\n",
        "\n",
        "x = 22\n",
        "y = [22]\n",
        "f(x, y)\n",
        "\n",
        "# Veamos que ocurre con las variables de origen\n",
        "print (x,y)"
      ],
      "metadata": {
        "colab": {
          "base_uri": "https://localhost:8080/"
        },
        "id": "5qIS2w-LiO5Y",
        "outputId": "fd2c52dd-f9f6-48a4-e957-93bdb431740a"
      },
      "execution_count": null,
      "outputs": [
        {
          "output_type": "stream",
          "name": "stdout",
          "text": [
            "25 [22, 23]\n",
            "22 [22, 23]\n"
          ]
        }
      ]
    },
    {
      "cell_type": "markdown",
      "source": [
        "### Puede una función retornar más de un parámetro?\n",
        "### Esto es cierto?"
      ],
      "metadata": {
        "id": "1BCdV2YYX2Cp"
      }
    },
    {
      "cell_type": "code",
      "source": [
        "# Returning Multiple Values with Tuples\n",
        "def multiple_valor_retorno():\n",
        "    return 1, 2, 3\n",
        "\n",
        "variable = multiple_valor_retorno()\n",
        "\n",
        "a, b, c = multiple_valor_retorno()\n",
        "print(a)\n",
        "print(b)\n",
        "print(c)\n",
        "\n",
        "print(type(variable))"
      ],
      "metadata": {
        "colab": {
          "base_uri": "https://localhost:8080/"
        },
        "id": "hRhx1bS2X5ok",
        "outputId": "ea49d92c-e89f-4f32-a8a1-44af139ba7e7"
      },
      "execution_count": null,
      "outputs": [
        {
          "output_type": "stream",
          "name": "stdout",
          "text": [
            "1\n",
            "2\n",
            "3\n",
            "<class 'tuple'>\n"
          ]
        }
      ]
    },
    {
      "cell_type": "markdown",
      "source": [
        "### Funcion que retorna más de un parámetro en forma de lista"
      ],
      "metadata": {
        "id": "LRQfrgaOa2Uc"
      }
    },
    {
      "cell_type": "code",
      "source": [
        "def return_multiple():\n",
        "  return [1, 2, 3]\n",
        "  \n",
        "\n",
        "return_all = return_multiple()\n",
        "print(f'{return_all}')\n",
        "\n",
        "# Return multiple variables\n",
        "a, b, c = return_multiple()\n",
        "print(f'{a}')\n",
        "#print(f'{b}')\n",
        "#print(f'{c}')\n",
        "\n",
        "print(type(return_all))"
      ],
      "metadata": {
        "colab": {
          "base_uri": "https://localhost:8080/"
        },
        "id": "QHCDhwEwa7_V",
        "outputId": "0eec1cc9-6601-4f1b-c6be-c1d6cd7e7bf2"
      },
      "execution_count": null,
      "outputs": [
        {
          "output_type": "stream",
          "name": "stdout",
          "text": [
            "[1, 2, 3]\n",
            "1\n",
            "<class 'list'>\n"
          ]
        }
      ]
    },
    {
      "cell_type": "markdown",
      "source": [
        "### Funcion que retorna múltiples valores con Dictionario"
      ],
      "metadata": {
        "id": "SYaW5nphcOqv"
      }
    },
    {
      "cell_type": "code",
      "source": [
        "# Returning Multiple Values using a Dictionary\n",
        "def calcular_distancia(velocidad, tiempo):\n",
        "  ditancia_recorrida = velocidad * tiempo\n",
        "  return {'Velocidad': velocidad, 'Tiempo': tiempo, 'Distancia': ditancia_recorrida}\n",
        "items = calcular_distancia(10, 60)\n",
        "print(f'La Distancia es = {items.get(\"Distancia\")}')\n",
        "print(f'La velocidad es = {items.get(\"Velocidad\")}')\n",
        "print(f'El timpo recorrido es ={items.get(\"Tiempo\")}')\n",
        "\n",
        "resultado = calcular_distancia(10,6)\n",
        "\n",
        "print(type(resultado))\n"
      ],
      "metadata": {
        "colab": {
          "base_uri": "https://localhost:8080/"
        },
        "id": "q1vyntW0cSuc",
        "outputId": "53effd28-5ff8-465d-dd24-9fb468bc4030"
      },
      "execution_count": null,
      "outputs": [
        {
          "output_type": "stream",
          "name": "stdout",
          "text": [
            "La Distancia es = 600\n",
            "La velocidad es = 10\n",
            "El timpo recorrido es =60\n",
            "<class 'dict'>\n"
          ]
        }
      ]
    },
    {
      "cell_type": "code",
      "source": [
        "from datetime import date\n",
        "today = date.today()\n",
        "print(today.year)\n",
        "print(today.month)\n",
        "print(today.day)"
      ],
      "metadata": {
        "id": "YXOot21Vkrq5",
        "colab": {
          "base_uri": "https://localhost:8080/"
        },
        "outputId": "564b6ca7-86c8-402b-db32-58ea2b453d5e"
      },
      "execution_count": null,
      "outputs": [
        {
          "output_type": "stream",
          "name": "stdout",
          "text": [
            "2022\n",
            "9\n",
            "21\n"
          ]
        }
      ]
    },
    {
      "cell_type": "markdown",
      "source": [
        "### Funcion para Calcular la edad a partir de la **Fecha de Nacimiento**"
      ],
      "metadata": {
        "id": "oVFGkSgvSu53"
      }
    },
    {
      "cell_type": "code",
      "source": [
        "# Python3 code to calculate age in years\n",
        "\n",
        "from datetime import date\n",
        "\n",
        "def calcularEdad(FechaNacimiento):\n",
        "  today = date.today()\n",
        "  edad = today.year - FechaNacimiento.year - ((today.month, today.day) < (FechaNacimiento.month, FechaNacimiento.day))\n",
        "  return edad\n",
        "\t\n",
        "# Driver code\n",
        "print(calcularEdad(date(2005, 9, 26)), \"Years\")\n"
      ],
      "metadata": {
        "colab": {
          "base_uri": "https://localhost:8080/"
        },
        "id": "lC95WhkoS4TX",
        "outputId": "afaad01f-11fb-44a5-df1b-7ff91453d0dc"
      },
      "execution_count": null,
      "outputs": [
        {
          "output_type": "stream",
          "name": "stdout",
          "text": [
            "17 Years\n"
          ]
        }
      ]
    }
  ]
}